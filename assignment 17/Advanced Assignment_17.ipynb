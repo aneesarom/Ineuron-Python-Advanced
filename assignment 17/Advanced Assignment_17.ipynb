{
 "cells": [
  {
   "cell_type": "markdown",
   "id": "2de509dd",
   "metadata": {},
   "source": [
    "# Q1. Explain the difference between greedy and non-greedy syntax with visual terms in as few words as possible. What is the bare minimum effort required to transform a greedy pattern into a non-greedy one? What characters or characters can you introduce or change?"
   ]
  },
  {
   "cell_type": "raw",
   "id": "b0079108",
   "metadata": {},
   "source": [
    "# Matches any number of characters (greedy)\n",
    "pattern = .*\n",
    "\n",
    "# Matches any number of characters, but stops as soon as it finds a match (non greedy)\n",
    "pattern = .*?"
   ]
  },
  {
   "cell_type": "raw",
   "id": "c3d9e55d",
   "metadata": {},
   "source": [
    "A greedy syntax matches as much text as possible, while a non-greedy syntax matches as little as possible. To make a greedy pattern non-greedy, we can add a \"?\" after the quantifier."
   ]
  },
  {
   "cell_type": "markdown",
   "id": "9a054d72",
   "metadata": {},
   "source": [
    "# Q2. When exactly does greedy versus non-greedy make a difference?  What if you're looking for a non-greedy match but the only one available is greedy?"
   ]
  },
  {
   "cell_type": "raw",
   "id": "b535c022",
   "metadata": {},
   "source": [
    "The difference between greedy and non-greedy matching becomes significant when there are multiple possible matches in the text. A greedy syntax matches as much text as possible, while a non-greedy syntax matches as little as possible. To make a greedy pattern non-greedy, we can add a \"?\" after the quantifier. "
   ]
  },
  {
   "cell_type": "markdown",
   "id": "409998fa",
   "metadata": {},
   "source": [
    "# Q3. In a simple match of a string, which looks only for one match and does not do any replacement, is the use of a nontagged group likely to make any practical difference?"
   ]
  },
  {
   "cell_type": "raw",
   "id": "6cfb0a8e",
   "metadata": {},
   "source": [
    "Using a non-tagged group for simple match of the string will not make any practical difference. But non-tagged groups can be useful in more complex regex where capturing groups are needed to extract specific information from the match."
   ]
  },
  {
   "cell_type": "markdown",
   "id": "0c69be3e",
   "metadata": {},
   "source": [
    "# Q4. Describe a scenario in which using a nontagged category would have a significant impact on the program's outcomes."
   ]
  },
  {
   "cell_type": "code",
   "execution_count": 2,
   "id": "d8e78cb9",
   "metadata": {},
   "outputs": [
    {
     "name": "stdout",
     "output_type": "stream",
     "text": [
      "Username: anees\n",
      "Domain: gmail.com\n"
     ]
    }
   ],
   "source": [
    "import re\n",
    "\n",
    "email = \"anees@gmail.com\"\n",
    "pattern = r\"(\\w+)@(\\w+\\.\\w+)\"\n",
    "\n",
    "match = re.match(pattern, email)\n",
    "if match:\n",
    "    username = match.group(1)\n",
    "    domain = match.group(2)\n",
    "    print(\"Username:\", username)\n",
    "    print(\"Domain:\", domain)"
   ]
  },
  {
   "cell_type": "raw",
   "id": "56c540f5",
   "metadata": {},
   "source": [
    "By using non-tagged category we can locate the username and domain name exactly what we required. In this way if it is a complex regex we can locate it"
   ]
  },
  {
   "cell_type": "markdown",
   "id": "cef843d4",
   "metadata": {},
   "source": [
    "# Q5. Unlike a normal regex pattern, a look-ahead condition does not consume the characters it examines. Describe a situation in which this could make a difference in the results of your programme."
   ]
  },
  {
   "cell_type": "code",
   "execution_count": 3,
   "id": "5d99cb47",
   "metadata": {},
   "outputs": [
    {
     "name": "stdout",
     "output_type": "stream",
     "text": [
      "['Msquare', 'Infosys']\n"
     ]
    }
   ],
   "source": [
    "import re\n",
    "\n",
    "text = \"Msquare ltd and Infosys ltd are both dominating the field\"\n",
    "\n",
    "pattern = r\"\\w+(?= ltd)\"\n",
    "\n",
    "matches = re.findall(pattern, text)\n",
    "\n",
    "print(matches)"
   ]
  },
  {
   "cell_type": "raw",
   "id": "754059ba",
   "metadata": {},
   "source": [
    "Look-ahead conditions are useful when we need to match a pattern that is followed by a specific string, but we do not want to include that string in the match. This can help us to extract more precise and meaningful information from the text we are searching."
   ]
  },
  {
   "cell_type": "markdown",
   "id": "72989c0c",
   "metadata": {},
   "source": [
    "# Q6. In standard expressions, what is the difference between positive look-ahead and negative look-ahead?"
   ]
  },
  {
   "cell_type": "code",
   "execution_count": 4,
   "id": "fcc19109",
   "metadata": {},
   "outputs": [
    {
     "name": "stdout",
     "output_type": "stream",
     "text": [
      "['8']\n",
      "['8', '5']\n"
     ]
    }
   ],
   "source": [
    "import re\n",
    "\n",
    "text = \"There are 8 apples, 5 oranges, 2 bananas\"\n",
    "\n",
    "pattern1 = r\"\\d+(?= apples)\"\n",
    "matches1 = re.findall(pattern1, text)\n",
    "print(matches1)\n",
    "\n",
    "pattern2 = r\"\\d+(?! bananas)\"\n",
    "matches2 = re.findall(pattern2, text)\n",
    "print(matches2)"
   ]
  },
  {
   "cell_type": "raw",
   "id": "a6f44a78",
   "metadata": {},
   "source": [
    "Positive look-ahead (?=) checks if a pattern exists ahead of the current match. It means that the pattern must be present for a match to occur, but the pattern itself is not included in the match.\n",
    "\n",
    "Negative look-ahead (?!), checks if a pattern does not exist ahead of the current match. It means that the pattern must not be present for a match to occur."
   ]
  },
  {
   "cell_type": "markdown",
   "id": "984710a8",
   "metadata": {},
   "source": [
    "# Q7. What is the benefit of referring to groups by name rather than by number in a standard expression?"
   ]
  },
  {
   "cell_type": "code",
   "execution_count": 5,
   "id": "ca6cad68",
   "metadata": {},
   "outputs": [
    {
     "name": "stdout",
     "output_type": "stream",
     "text": [
      "1995\n",
      "03\n",
      "25\n"
     ]
    }
   ],
   "source": [
    "import re\n",
    "\n",
    "pattern = r\"(?P<year>\\d{4})-(?P<month>\\d{2})-(?P<day>\\d{2})\"\n",
    "\n",
    "text = \"My B'day is 1995-03-25\"\n",
    "\n",
    "match = re.search(pattern, text)\n",
    "\n",
    "print(match.group('year'))\n",
    "print(match.group('month'))\n",
    "print(match.group('day'))"
   ]
  },
  {
   "cell_type": "raw",
   "id": "c6a67284",
   "metadata": {},
   "source": [
    "Named groups can make the regular expression more readable and easier to understand, especially for complex patterns. It allows the developer to give meaningful names to the different parts of the pattern. It is more maintainable since they make it easier to understand and update the pattern in the future"
   ]
  },
  {
   "cell_type": "markdown",
   "id": "5239ba1b",
   "metadata": {},
   "source": [
    "# Q8. Can you identify repeated items within a target string using named groups, as in \"The cow jumped over the moon\"?"
   ]
  },
  {
   "cell_type": "code",
   "execution_count": 9,
   "id": "95a73295",
   "metadata": {},
   "outputs": [
    {
     "name": "stdout",
     "output_type": "stream",
     "text": [
      "['the']\n"
     ]
    }
   ],
   "source": [
    "import re\n",
    "\n",
    "text = \"The cow jumped over the moon\"\n",
    "\n",
    "pattern = r\"\\b(?P<word>\\w+)\\b(?=.*\\b(?P=word)\\b)\"\n",
    "\n",
    "matches = re.findall(pattern, text.lower())\n",
    "\n",
    "print(matches)"
   ]
  },
  {
   "cell_type": "markdown",
   "id": "43fd9fb8",
   "metadata": {},
   "source": [
    "# Q9. When parsing a string, what is at least one thing that the Scanner interface does for you that the re.findall feature does not?"
   ]
  },
  {
   "cell_type": "raw",
   "id": "7d2b6782",
   "metadata": {},
   "source": [
    "Scanner interface and the re.findall function in Python is that the Scanner interface allows you to define patterns using a set of regular expressions, which can be easily modified or extended. On the other hand, the re.findall function requires you to define a single regular expression pattern to match against the input string."
   ]
  },
  {
   "cell_type": "markdown",
   "id": "ce0edc4b",
   "metadata": {},
   "source": [
    "# Q10. Does a scanner object have to be named scanner?"
   ]
  },
  {
   "cell_type": "raw",
   "id": "9a98a387",
   "metadata": {},
   "source": [
    "No, a Scanner object does not have to be named scanner. Like all objects in Python, it can be named anything as long as the name follows the naming conventions of Python variables"
   ]
  }
 ],
 "metadata": {
  "kernelspec": {
   "display_name": "Python 3 (ipykernel)",
   "language": "python",
   "name": "python3"
  },
  "language_info": {
   "codemirror_mode": {
    "name": "ipython",
    "version": 3
   },
   "file_extension": ".py",
   "mimetype": "text/x-python",
   "name": "python",
   "nbconvert_exporter": "python",
   "pygments_lexer": "ipython3",
   "version": "3.8.16"
  }
 },
 "nbformat": 4,
 "nbformat_minor": 5
}
