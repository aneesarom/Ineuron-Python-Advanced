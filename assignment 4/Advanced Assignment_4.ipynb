{
 "cells": [
  {
   "cell_type": "markdown",
   "id": "60977d01",
   "metadata": {},
   "source": [
    "# Q1. Which two operator overloading methods can you use in your classes to support iteration?"
   ]
  },
  {
   "cell_type": "raw",
   "id": "b4e8be99",
   "metadata": {},
   "source": [
    "1.  __iter__ is used to create an iterator object that supports the iteration\n",
    "2.  __getitem__ is used to provide index access to the elements of the object"
   ]
  },
  {
   "cell_type": "code",
   "execution_count": 7,
   "id": "aec7c381",
   "metadata": {},
   "outputs": [
    {
     "name": "stdout",
     "output_type": "stream",
     "text": [
      "1\n",
      "2\n",
      "3\n",
      "4\n",
      "5\n"
     ]
    }
   ],
   "source": [
    "class MyList:\n",
    "    def __init__(self, data):\n",
    "        self.data = data\n",
    "        self.index = 0\n",
    "    \n",
    "    def __iter__(self):\n",
    "        return self\n",
    "    \n",
    "    def __next__(self):\n",
    "        if self.index < len(self.data):\n",
    "            result = self.data[self.index]\n",
    "            self.index += 1\n",
    "            return result\n",
    "        else:\n",
    "            raise StopIteration\n",
    "\n",
    "my_list = MyList([1, 2, 3, 4, 5])\n",
    "\n",
    "for item in my_list:\n",
    "    print(item)"
   ]
  },
  {
   "cell_type": "markdown",
   "id": "7a00b941",
   "metadata": {},
   "source": [
    "# Q2. In what contexts do the two operator overloading methods manage printing?"
   ]
  },
  {
   "cell_type": "raw",
   "id": "c2ab60de",
   "metadata": {},
   "source": [
    "__str__ method is used to define the string representation of an object and is called by the print() function. It should return a human-readable string that represents the object.\n",
    "\n",
    "__repr__ method is used to define the object's \"official\" string representation and is called by the repr() function when printing the object. It should return a string that can be used to recreate the object. It is also used in debugging to represent the object in a unique way."
   ]
  },
  {
   "cell_type": "code",
   "execution_count": 28,
   "id": "86102590",
   "metadata": {},
   "outputs": [
    {
     "name": "stdout",
     "output_type": "stream",
     "text": [
      "Person(Anees Aro, 29)\n",
      "Anees Aro (29 years old)\n"
     ]
    }
   ],
   "source": [
    "class Person:\n",
    "    def __init__(self, name, age):\n",
    "        self.name = name\n",
    "        self.age = age\n",
    "    \n",
    "    def __repr__(self):\n",
    "        return f\"Person({self.name}, {self.age})\"\n",
    "    \n",
    "    def __str__(self):\n",
    "        return f\"{self.name} ({self.age} years old)\"\n",
    "\n",
    "p = Person(\"Anees Aro\", 29)\n",
    "print(repr(p))\n",
    "print(p)"
   ]
  },
  {
   "cell_type": "markdown",
   "id": "2e2ab4d7",
   "metadata": {},
   "source": [
    "# Q3. In a class, how do you intercept slice operations?"
   ]
  },
  {
   "cell_type": "raw",
   "id": "591c2f12",
   "metadata": {},
   "source": [
    "To intercept slice operations in a class we can define the special method __getitem__(). The __getitem__() method is called when an object is indexed or sliced."
   ]
  },
  {
   "cell_type": "code",
   "execution_count": 22,
   "id": "731fa559",
   "metadata": {},
   "outputs": [
    {
     "name": "stdout",
     "output_type": "stream",
     "text": [
      "[2, 4]\n"
     ]
    }
   ],
   "source": [
    "class MyClass:\n",
    "    def __init__(self, data):\n",
    "        self.data = data\n",
    "    \n",
    "    def __getitem__(self, index):\n",
    "        if isinstance(index, slice):\n",
    "            start = index.start\n",
    "            stop = index.stop\n",
    "            step = index.step\n",
    "            return self.data[start:stop:step]\n",
    "        else:\n",
    "            return self.data[index]\n",
    "\n",
    "my_object = MyClass([1, 2, 3, 4, 5])\n",
    "print(my_object[1:4:2])"
   ]
  },
  {
   "cell_type": "markdown",
   "id": "d24c3d00",
   "metadata": {},
   "source": [
    "# Q4. In a class, how do you capture in-place addition?"
   ]
  },
  {
   "cell_type": "raw",
   "id": "0e086573",
   "metadata": {},
   "source": [
    "In a class, we can capture in-place addition using the special method __iadd__(). When the in-place addition operation is called on an instance of a class, Python checks for the presence of __iadd__() method in the class. If it is present, the in-place addition operation is performed"
   ]
  },
  {
   "cell_type": "code",
   "execution_count": 27,
   "id": "63e186a1",
   "metadata": {},
   "outputs": [
    {
     "name": "stdout",
     "output_type": "stream",
     "text": [
      "8\n",
      "11\n",
      "14\n",
      "17\n",
      "20\n"
     ]
    }
   ],
   "source": [
    "class MyClass:\n",
    "    def __init__(self, value):\n",
    "        self.value = value\n",
    "    \n",
    "    def __iadd__(self, add_value):\n",
    "        self.value += add_value\n",
    "        return self\n",
    "    \n",
    "obj = MyClass(5)\n",
    "\n",
    "for i in range(5):\n",
    "    obj += 3\n",
    "    print(obj.value)"
   ]
  },
  {
   "cell_type": "markdown",
   "id": "6fe4ae78",
   "metadata": {},
   "source": [
    "# Q5. When is it appropriate to use operator overloading?"
   ]
  },
  {
   "cell_type": "raw",
   "id": "312d7007",
   "metadata": {},
   "source": [
    "It depends on the specific use case and the nature of the objects being manipulated. Operator overloading can be useful in cases where you want to do mathematical operations such as -, *, /, ==, !=, >, <, >=, <=, [], (), +=. "
   ]
  }
 ],
 "metadata": {
  "kernelspec": {
   "display_name": "Python 3 (ipykernel)",
   "language": "python",
   "name": "python3"
  },
  "language_info": {
   "codemirror_mode": {
    "name": "ipython",
    "version": 3
   },
   "file_extension": ".py",
   "mimetype": "text/x-python",
   "name": "python",
   "nbconvert_exporter": "python",
   "pygments_lexer": "ipython3",
   "version": "3.8.16"
  }
 },
 "nbformat": 4,
 "nbformat_minor": 5
}
