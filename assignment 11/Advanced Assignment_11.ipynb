{
 "cells": [
  {
   "cell_type": "markdown",
   "id": "a1c824d8",
   "metadata": {},
   "source": [
    "# Q1. What is the concept of a metaclass?"
   ]
  },
  {
   "cell_type": "raw",
   "id": "b5f76091",
   "metadata": {},
   "source": [
    "A metaclass is a special type of class that is used to customize the behavior of other classes. It can be used to control the creation, behavior, and initialization of classes."
   ]
  },
  {
   "cell_type": "markdown",
   "id": "4a275a40",
   "metadata": {},
   "source": [
    "# Q2. What is the best way to declare a class's metaclass?"
   ]
  },
  {
   "cell_type": "code",
   "execution_count": 7,
   "id": "56aa7eed",
   "metadata": {},
   "outputs": [
    {
     "name": "stdout",
     "output_type": "stream",
     "text": [
      "This is meta class\n"
     ]
    }
   ],
   "source": [
    "class MyMetaClass(type):\n",
    "    def __new__(cls, name, bases, attrs):\n",
    "        attrs['my_attribute'] = 'This is meta class'\n",
    "        return super().__new__(cls, name, bases, attrs)\n",
    "\n",
    "class MyClass(metaclass=MyMetaClass):\n",
    "    pass\n",
    "\n",
    "obj = MyClass()\n",
    "print(obj.my_attribute)"
   ]
  },
  {
   "cell_type": "markdown",
   "id": "92f025a2",
   "metadata": {},
   "source": [
    "# Q3. How do class decorators overlap with metaclasses for handling classes?"
   ]
  },
  {
   "cell_type": "raw",
   "id": "1426d126",
   "metadata": {},
   "source": [
    "Class decorators are used for simpler modifications that can be applied to any class, while metaclasses are used for more complex modifications.  Class decorators are applied to a class after it has already been defined, while metaclasses are used to define the behavior of a class before it is created. so we have to choose the appropriate approach based on the use cases"
   ]
  },
  {
   "cell_type": "markdown",
   "id": "e5d7118c",
   "metadata": {},
   "source": [
    "# Q4. How do class decorators overlap with metaclasses for handling instances?"
   ]
  },
  {
   "cell_type": "raw",
   "id": "88263921",
   "metadata": {},
   "source": [
    "Class decorators are used for simpler modifications that can be applied to any class, while metaclasses are used for more complex modifications.  Class decorators are applied to a class after it has already been defined, while metaclasses are used to define the behavior of a class before it is created.so we have to choose the appropriate approach based on the use cases"
   ]
  }
 ],
 "metadata": {
  "kernelspec": {
   "display_name": "Python 3 (ipykernel)",
   "language": "python",
   "name": "python3"
  },
  "language_info": {
   "codemirror_mode": {
    "name": "ipython",
    "version": 3
   },
   "file_extension": ".py",
   "mimetype": "text/x-python",
   "name": "python",
   "nbconvert_exporter": "python",
   "pygments_lexer": "ipython3",
   "version": "3.8.16"
  }
 },
 "nbformat": 4,
 "nbformat_minor": 5
}
