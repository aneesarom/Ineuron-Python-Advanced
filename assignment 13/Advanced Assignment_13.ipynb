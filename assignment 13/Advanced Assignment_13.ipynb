{
 "cells": [
  {
   "cell_type": "markdown",
   "id": "456b443e",
   "metadata": {},
   "source": [
    "# Q1. Can you create a programme or function that employs both positive and negative indexing? Is there any repercussion if you do so?"
   ]
  },
  {
   "cell_type": "code",
   "execution_count": 1,
   "id": "b5aceca4",
   "metadata": {},
   "outputs": [],
   "source": [
    "def indexing():\n",
    "    string = \"hello anees\"\n",
    "    print(\"positive indexing: \")\n",
    "    for i in range(len(string)):\n",
    "        print(string[i], end=\"\")\n",
    "    print(\"\\nnegative indexing: \")\n",
    "    for j in range(len(string)-1, -1, -1):\n",
    "        print(string[j], end=\"\")\n",
    "        "
   ]
  },
  {
   "cell_type": "code",
   "execution_count": 2,
   "id": "c672dc38",
   "metadata": {},
   "outputs": [
    {
     "name": "stdout",
     "output_type": "stream",
     "text": [
      "positive indexing: \n",
      "hello anees\n",
      "negative indexing: \n",
      "seena olleh"
     ]
    }
   ],
   "source": [
    "indexing()"
   ]
  },
  {
   "cell_type": "raw",
   "id": "5d83095e",
   "metadata": {},
   "source": [
    "There is no repercussion to using both positive and negative indexing in the same program. We need to understand how the start and end index should use correctly without making error"
   ]
  },
  {
   "cell_type": "markdown",
   "id": "1c6c3b37",
   "metadata": {},
   "source": [
    "# Q2. What is the most effective way of starting with 1,000 elements in a Python list? Assume that all elements should be set to the same value."
   ]
  },
  {
   "cell_type": "code",
   "execution_count": 3,
   "id": "c0c67d4b",
   "metadata": {},
   "outputs": [],
   "source": [
    "a = [1.]*1000"
   ]
  },
  {
   "cell_type": "markdown",
   "id": "346ddca0",
   "metadata": {},
   "source": [
    "# Q3. How do you slice a list to get any other part while missing the rest? (For example, suppose you want to make a new list with the elements first, third, fifth, seventh, and so on.)"
   ]
  },
  {
   "cell_type": "code",
   "execution_count": 4,
   "id": "1a405fd2",
   "metadata": {},
   "outputs": [],
   "source": [
    "li = ['a', 'n', 'e', 'i', 's', 'k', 'a', 'r', 'o']"
   ]
  },
  {
   "cell_type": "code",
   "execution_count": 5,
   "id": "9a99fc4a",
   "metadata": {},
   "outputs": [],
   "source": [
    "new_list = li[1::2]"
   ]
  },
  {
   "cell_type": "code",
   "execution_count": 6,
   "id": "2a69ee50",
   "metadata": {},
   "outputs": [
    {
     "data": {
      "text/plain": [
       "['n', 'i', 'k', 'r']"
      ]
     },
     "execution_count": 6,
     "metadata": {},
     "output_type": "execute_result"
    }
   ],
   "source": [
    "new_list"
   ]
  },
  {
   "cell_type": "markdown",
   "id": "16e86c23",
   "metadata": {},
   "source": [
    "# Q4. Explain the distinctions between indexing and slicing."
   ]
  },
  {
   "cell_type": "raw",
   "id": "f173f273",
   "metadata": {},
   "source": [
    "Indexing and slicing are related concepts for accessing elements in a string. Indexing is used to access a single element. However slicing is used to access a range of elements in the sequence by specifying the start and end indices."
   ]
  },
  {
   "cell_type": "markdown",
   "id": "8619f98c",
   "metadata": {},
   "source": [
    "# Q5. What happens if one of the slicing expression's indexes is out of range?"
   ]
  },
  {
   "cell_type": "code",
   "execution_count": 7,
   "id": "e58ec1c0",
   "metadata": {},
   "outputs": [],
   "source": [
    "li = ['a', 'ni', 'e', 'i', 's', 'k', 'a', 'r', 'o', 'i', 'o', 'p']"
   ]
  },
  {
   "cell_type": "code",
   "execution_count": 8,
   "id": "05b50a80",
   "metadata": {},
   "outputs": [
    {
     "data": {
      "text/plain": [
       "['ni']"
      ]
     },
     "execution_count": 8,
     "metadata": {},
     "output_type": "execute_result"
    }
   ],
   "source": [
    "li[1:-2:19]"
   ]
  },
  {
   "cell_type": "raw",
   "id": "292796e2",
   "metadata": {},
   "source": [
    "It depends on where we are using out of range index. Generally python wont raise a error. If we use out of range index at starting index it will create empty list. if we are using out of range index at step or at end range it will produce single element list "
   ]
  },
  {
   "cell_type": "markdown",
   "id": "b1f95c90",
   "metadata": {},
   "source": [
    "# Q6. If you pass a list to a function, and if you want the function to be able to change the values of the list—so that the list is different after the function returns—what action should you avoid?"
   ]
  },
  {
   "cell_type": "raw",
   "id": "b2c6bebe",
   "metadata": {},
   "source": [
    "Generally we should avoid creating new list object. Instead we should modify the list in place using its indexing or slicing operations, or by using built-in list methods like append(), insert(), remove()."
   ]
  },
  {
   "cell_type": "markdown",
   "id": "f183eef7",
   "metadata": {},
   "source": [
    "# Q7. What is the concept of an unbalanced matrix?"
   ]
  },
  {
   "cell_type": "code",
   "execution_count": 10,
   "id": "e6ef0add",
   "metadata": {},
   "outputs": [
    {
     "data": {
      "text/plain": [
       "[[1, 2, 3], [4, 5], [6, 7, 8, 9]]"
      ]
     },
     "execution_count": 10,
     "metadata": {},
     "output_type": "execute_result"
    }
   ],
   "source": [
    "[[1, 2, 3],\n",
    " [4, 5],\n",
    " [6, 7, 8, 9]]"
   ]
  },
  {
   "cell_type": "raw",
   "id": "3ccd4963",
   "metadata": {},
   "source": [
    "If Length of all rows in matrix is not same, then that is called unbalanced matrix"
   ]
  },
  {
   "cell_type": "markdown",
   "id": "765c65ba",
   "metadata": {},
   "source": [
    "# Q8. Why is it necessary to use either list comprehension or a loop to create arbitrarily large matrices?"
   ]
  },
  {
   "cell_type": "raw",
   "id": "535534c4",
   "metadata": {},
   "source": [
    "Because it is easy to make mistake when creating large matrices and it is time consuming. By using for loop or list comprehension we can do it in more structured way to form a matrix"
   ]
  }
 ],
 "metadata": {
  "kernelspec": {
   "display_name": "Python 3 (ipykernel)",
   "language": "python",
   "name": "python3"
  },
  "language_info": {
   "codemirror_mode": {
    "name": "ipython",
    "version": 3
   },
   "file_extension": ".py",
   "mimetype": "text/x-python",
   "name": "python",
   "nbconvert_exporter": "python",
   "pygments_lexer": "ipython3",
   "version": "3.8.16"
  }
 },
 "nbformat": 4,
 "nbformat_minor": 5
}
