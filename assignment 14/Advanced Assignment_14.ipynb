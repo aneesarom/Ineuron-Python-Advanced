{
 "cells": [
  {
   "cell_type": "markdown",
   "id": "9e5d801d",
   "metadata": {},
   "source": [
    "# Q1. Is an assignment operator like += only for show? Is it possible that it would lead to faster results at the runtime?"
   ]
  },
  {
   "cell_type": "raw",
   "id": "3dd48f90",
   "metadata": {},
   "source": [
    "Yes when using \"+=\" additional operator in list, it always produce faster results because it adds value inplace. But when using \"+\" operator it creates new list object"
   ]
  },
  {
   "cell_type": "code",
   "execution_count": 40,
   "id": "3f755b68",
   "metadata": {},
   "outputs": [
    {
     "data": {
      "text/plain": [
       "4384626112"
      ]
     },
     "execution_count": 40,
     "metadata": {},
     "output_type": "execute_result"
    }
   ],
   "source": [
    "a = [4]\n",
    "b = [5]\n",
    "id(a)"
   ]
  },
  {
   "cell_type": "code",
   "execution_count": 41,
   "id": "12a06ae9",
   "metadata": {},
   "outputs": [],
   "source": [
    "a += b"
   ]
  },
  {
   "cell_type": "code",
   "execution_count": 42,
   "id": "c7d2c718",
   "metadata": {},
   "outputs": [
    {
     "data": {
      "text/plain": [
       "4384626112"
      ]
     },
     "execution_count": 42,
     "metadata": {},
     "output_type": "execute_result"
    }
   ],
   "source": [
    "id(a)"
   ]
  },
  {
   "cell_type": "code",
   "execution_count": 43,
   "id": "8c6eb982",
   "metadata": {},
   "outputs": [
    {
     "data": {
      "text/plain": [
       "4384664832"
      ]
     },
     "execution_count": 43,
     "metadata": {},
     "output_type": "execute_result"
    }
   ],
   "source": [
    "id(b)"
   ]
  },
  {
   "cell_type": "code",
   "execution_count": 44,
   "id": "fe4fc2d7",
   "metadata": {},
   "outputs": [],
   "source": [
    "b = a+b"
   ]
  },
  {
   "cell_type": "code",
   "execution_count": 45,
   "id": "4a3b77bd",
   "metadata": {},
   "outputs": [
    {
     "data": {
      "text/plain": [
       "4384629824"
      ]
     },
     "execution_count": 45,
     "metadata": {},
     "output_type": "execute_result"
    }
   ],
   "source": [
    "id(b)"
   ]
  },
  {
   "cell_type": "markdown",
   "id": "fa012af7",
   "metadata": {},
   "source": [
    "# Q2. What is the smallest number of statements you'd have to write in most programming languages to replace the Python expression a, b = a + b, a?"
   ]
  },
  {
   "cell_type": "code",
   "execution_count": 47,
   "id": "494e308a",
   "metadata": {},
   "outputs": [],
   "source": [
    "temp = a\n",
    "a = a + b\n",
    "b = temp"
   ]
  },
  {
   "cell_type": "markdown",
   "id": "67201d41",
   "metadata": {},
   "source": [
    "# Q3. In Python, what is the most effective way to set a list of 100 integers to 0?"
   ]
  },
  {
   "cell_type": "code",
   "execution_count": 58,
   "id": "a1ee4f6f",
   "metadata": {},
   "outputs": [],
   "source": [
    "li = [0] *100 #method 1"
   ]
  },
  {
   "cell_type": "code",
   "execution_count": 60,
   "id": "4c0b0170",
   "metadata": {},
   "outputs": [],
   "source": [
    "li = [0 for i in range(100)] #method 2"
   ]
  },
  {
   "cell_type": "markdown",
   "id": "d6c794b0",
   "metadata": {},
   "source": [
    "# Q4. What is the most effective way to initialise a list of 99 integers that repeats the sequence 1, 2, 3? S If necessary, show step-by-step instructions on how to accomplish this."
   ]
  },
  {
   "cell_type": "code",
   "execution_count": 71,
   "id": "a184f7dd",
   "metadata": {},
   "outputs": [],
   "source": [
    "li = [1, 2, 3] * 33"
   ]
  },
  {
   "cell_type": "code",
   "execution_count": 72,
   "id": "6dca22f2",
   "metadata": {},
   "outputs": [],
   "source": [
    "li = [i % 3 + 1 for i in range(99)]"
   ]
  },
  {
   "cell_type": "markdown",
   "id": "c7bb6f0a",
   "metadata": {},
   "source": [
    "# Q5. If you're using IDLE to run a Python application, explain how to print a multidimensional list as efficiently?"
   ]
  },
  {
   "cell_type": "code",
   "execution_count": 76,
   "id": "6896e5a4",
   "metadata": {},
   "outputs": [
    {
     "name": "stdout",
     "output_type": "stream",
     "text": [
      "1 2 3 \n",
      "4 5 6 \n",
      "7 8 9 \n"
     ]
    }
   ],
   "source": [
    "li = [[1, 2, 3], [4, 5, 6], [7, 8, 9]]\n",
    "\n",
    "for row in li:\n",
    "    for element in row:\n",
    "        print(element, end=\" \")\n",
    "    print(\"\")"
   ]
  },
  {
   "cell_type": "markdown",
   "id": "802248cb",
   "metadata": {},
   "source": [
    "# Q6. Is it possible to use list comprehension with a string? If so, how can you go about doing it?"
   ]
  },
  {
   "cell_type": "code",
   "execution_count": 77,
   "id": "cc454a04",
   "metadata": {},
   "outputs": [
    {
     "data": {
      "text/plain": [
       "['a', 'n', 'e', 'e', 's', ' ', 'a', 'r', 'o']"
      ]
     },
     "execution_count": 77,
     "metadata": {},
     "output_type": "execute_result"
    }
   ],
   "source": [
    "string = \"anees aro\"\n",
    "[char for char in string]"
   ]
  },
  {
   "cell_type": "markdown",
   "id": "3892b3c7",
   "metadata": {},
   "source": [
    "# Q7. From the command line, how do you get support with a user-written Python programme? Is this possible from inside IDLE?"
   ]
  },
  {
   "cell_type": "code",
   "execution_count": 81,
   "id": "36c4346a",
   "metadata": {
    "scrolled": false
   },
   "outputs": [
    {
     "name": "stdout",
     "output_type": "stream",
     "text": [
      "Help on class list in module builtins:\n",
      "\n",
      "class list(object)\n",
      " |  list(iterable=(), /)\n",
      " |  \n",
      " |  Built-in mutable sequence.\n",
      " |  \n",
      " |  If no argument is given, the constructor creates a new empty list.\n",
      " |  The argument must be an iterable if specified.\n",
      " |  \n",
      " |  Methods defined here:\n",
      " |  \n",
      " |  __add__(self, value, /)\n",
      " |      Return self+value.\n",
      " |  \n",
      " |  __contains__(self, key, /)\n",
      " |      Return key in self.\n",
      " |  \n",
      " |  __delitem__(self, key, /)\n",
      " |      Delete self[key].\n",
      " |  \n",
      " |  __eq__(self, value, /)\n",
      " |      Return self==value.\n",
      " |  \n",
      " |  __ge__(self, value, /)\n",
      " |      Return self>=value.\n",
      " |  \n",
      " |  __getattribute__(self, name, /)\n",
      " |      Return getattr(self, name).\n",
      " |  \n",
      " |  __getitem__(...)\n",
      " |      x.__getitem__(y) <==> x[y]\n",
      " |  \n",
      " |  __gt__(self, value, /)\n",
      " |      Return self>value.\n",
      " |  \n",
      " |  __iadd__(self, value, /)\n",
      " |      Implement self+=value.\n",
      " |  \n",
      " |  __imul__(self, value, /)\n",
      " |      Implement self*=value.\n",
      " |  \n",
      " |  __init__(self, /, *args, **kwargs)\n",
      " |      Initialize self.  See help(type(self)) for accurate signature.\n",
      " |  \n",
      " |  __iter__(self, /)\n",
      " |      Implement iter(self).\n",
      " |  \n",
      " |  __le__(self, value, /)\n",
      " |      Return self<=value.\n",
      " |  \n",
      " |  __len__(self, /)\n",
      " |      Return len(self).\n",
      " |  \n",
      " |  __lt__(self, value, /)\n",
      " |      Return self<value.\n",
      " |  \n",
      " |  __mul__(self, value, /)\n",
      " |      Return self*value.\n",
      " |  \n",
      " |  __ne__(self, value, /)\n",
      " |      Return self!=value.\n",
      " |  \n",
      " |  __repr__(self, /)\n",
      " |      Return repr(self).\n",
      " |  \n",
      " |  __reversed__(self, /)\n",
      " |      Return a reverse iterator over the list.\n",
      " |  \n",
      " |  __rmul__(self, value, /)\n",
      " |      Return value*self.\n",
      " |  \n",
      " |  __setitem__(self, key, value, /)\n",
      " |      Set self[key] to value.\n",
      " |  \n",
      " |  __sizeof__(self, /)\n",
      " |      Return the size of the list in memory, in bytes.\n",
      " |  \n",
      " |  append(self, object, /)\n",
      " |      Append object to the end of the list.\n",
      " |  \n",
      " |  clear(self, /)\n",
      " |      Remove all items from list.\n",
      " |  \n",
      " |  copy(self, /)\n",
      " |      Return a shallow copy of the list.\n",
      " |  \n",
      " |  count(self, value, /)\n",
      " |      Return number of occurrences of value.\n",
      " |  \n",
      " |  extend(self, iterable, /)\n",
      " |      Extend list by appending elements from the iterable.\n",
      " |  \n",
      " |  index(self, value, start=0, stop=9223372036854775807, /)\n",
      " |      Return first index of value.\n",
      " |      \n",
      " |      Raises ValueError if the value is not present.\n",
      " |  \n",
      " |  insert(self, index, object, /)\n",
      " |      Insert object before index.\n",
      " |  \n",
      " |  pop(self, index=-1, /)\n",
      " |      Remove and return item at index (default last).\n",
      " |      \n",
      " |      Raises IndexError if list is empty or index is out of range.\n",
      " |  \n",
      " |  remove(self, value, /)\n",
      " |      Remove first occurrence of value.\n",
      " |      \n",
      " |      Raises ValueError if the value is not present.\n",
      " |  \n",
      " |  reverse(self, /)\n",
      " |      Reverse *IN PLACE*.\n",
      " |  \n",
      " |  sort(self, /, *, key=None, reverse=False)\n",
      " |      Sort the list in ascending order and return None.\n",
      " |      \n",
      " |      The sort is in-place (i.e. the list itself is modified) and stable (i.e. the\n",
      " |      order of two equal elements is maintained).\n",
      " |      \n",
      " |      If a key function is given, apply it once to each list item and sort them,\n",
      " |      ascending or descending, according to their function values.\n",
      " |      \n",
      " |      The reverse flag can be set to sort in descending order.\n",
      " |  \n",
      " |  ----------------------------------------------------------------------\n",
      " |  Static methods defined here:\n",
      " |  \n",
      " |  __new__(*args, **kwargs) from builtins.type\n",
      " |      Create and return a new object.  See help(type) for accurate signature.\n",
      " |  \n",
      " |  ----------------------------------------------------------------------\n",
      " |  Data and other attributes defined here:\n",
      " |  \n",
      " |  __hash__ = None\n",
      "\n"
     ]
    }
   ],
   "source": [
    "help(list) # by using this command we can get support"
   ]
  },
  {
   "cell_type": "markdown",
   "id": "8c926f09",
   "metadata": {},
   "source": [
    "# Q8. Functions are said to be “first-class objects” in Python but not in most other languages, such as C++ or Java. What can you do in Python with a function (callable object) that you can't do in C or C++?"
   ]
  },
  {
   "cell_type": "raw",
   "id": "a6d79c6e",
   "metadata": {},
   "source": [
    "1. Pass a function as an argument to another function. Ex: wrapper function\n",
    "2. Define functions inside other functions.\n",
    "3. Return a function from a function. Ex: recursive function"
   ]
  },
  {
   "cell_type": "markdown",
   "id": "3679e676",
   "metadata": {},
   "source": [
    "# Q9. How do you distinguish between a wrapper, a wrapped feature, and a decorator?"
   ]
  },
  {
   "cell_type": "code",
   "execution_count": 83,
   "id": "d2100a65",
   "metadata": {},
   "outputs": [],
   "source": [
    "def admin_only(function):\n",
    "    def wrapper_function(*args, **kwargs):\n",
    "        if current_user == \"admin\":\n",
    "            return function(*args, **kwargs)\n",
    "    return wrapper_function\n",
    "\n",
    "@admin_only\n",
    "def add_new_post():\n",
    "    pass"
   ]
  },
  {
   "cell_type": "raw",
   "id": "10948af5",
   "metadata": {},
   "source": [
    "Everything connected with each other. It is a sequence of process. Here wrapper is admin_only function, add_new_post function is the feature that is being wrapped @admin_only is the decorator. By combining all this we can achieve only admin can access the add_new_post function"
   ]
  },
  {
   "cell_type": "raw",
   "id": "8c8cdddf",
   "metadata": {},
   "source": [
    "A wrapper is a function that takes another function as input and adds some additional functionality to it. The wrapped feature is the original function that is passed to the wrapper. A decorator is a feature that allows the using the \"@\" symbol followed by the name of the decorator function before the definition of the wrapped feature."
   ]
  },
  {
   "cell_type": "markdown",
   "id": "5c9809e8",
   "metadata": {},
   "source": [
    "# Q10. If a function is a generator function, what does it return?"
   ]
  },
  {
   "cell_type": "raw",
   "id": "7268c830",
   "metadata": {},
   "source": [
    "If a function is a generator function, it returns a generator object, which can be used to iterate over a sequence of values generated by the function. The generator function uses the yield keyword to \"yield\" each value one at a time, rather than returning them all at once. This allows for efficient processing of infinite sequences of values."
   ]
  },
  {
   "cell_type": "code",
   "execution_count": 1,
   "id": "13fcc50c",
   "metadata": {},
   "outputs": [],
   "source": [
    "def funct(num):\n",
    "    for i in range(num):\n",
    "        yield i"
   ]
  },
  {
   "cell_type": "code",
   "execution_count": 9,
   "id": "3723689f",
   "metadata": {},
   "outputs": [
    {
     "data": {
      "text/plain": [
       "<generator object funct at 0x107992c80>"
      ]
     },
     "execution_count": 9,
     "metadata": {},
     "output_type": "execute_result"
    }
   ],
   "source": [
    "k = funct(10)\n",
    "k"
   ]
  },
  {
   "cell_type": "code",
   "execution_count": 8,
   "id": "05037c0c",
   "metadata": {},
   "outputs": [
    {
     "data": {
      "text/plain": [
       "3"
      ]
     },
     "execution_count": 8,
     "metadata": {},
     "output_type": "execute_result"
    }
   ],
   "source": [
    "next(k)"
   ]
  },
  {
   "cell_type": "markdown",
   "id": "03a5ad0c",
   "metadata": {},
   "source": [
    "# Q11. What is the one improvement that must be made to a function in order for it to become a generator function in the Python language?\n"
   ]
  },
  {
   "cell_type": "raw",
   "id": "361ebafc",
   "metadata": {},
   "source": [
    "We need to use the yield statement in the function body."
   ]
  },
  {
   "cell_type": "code",
   "execution_count": 10,
   "id": "016b779c",
   "metadata": {},
   "outputs": [],
   "source": [
    "def funct(num):\n",
    "    for i in range(num):\n",
    "        yield i"
   ]
  },
  {
   "cell_type": "markdown",
   "id": "58e605b7",
   "metadata": {},
   "source": [
    "# Q12. Identify at least one benefit of generators."
   ]
  },
  {
   "cell_type": "raw",
   "id": "a1fd353d",
   "metadata": {},
   "source": [
    "Generators are memory-efficient because they adopt a lazy evaluation approach, where values are only generated as needed when requested"
   ]
  }
 ],
 "metadata": {
  "kernelspec": {
   "display_name": "Python 3 (ipykernel)",
   "language": "python",
   "name": "python3"
  },
  "language_info": {
   "codemirror_mode": {
    "name": "ipython",
    "version": 3
   },
   "file_extension": ".py",
   "mimetype": "text/x-python",
   "name": "python",
   "nbconvert_exporter": "python",
   "pygments_lexer": "ipython3",
   "version": "3.8.16"
  }
 },
 "nbformat": 4,
 "nbformat_minor": 5
}
