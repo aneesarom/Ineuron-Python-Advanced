{
 "cells": [
  {
   "cell_type": "markdown",
   "id": "c039f856",
   "metadata": {},
   "source": [
    "# Q1. Does assigning a value to a string's indexed character violate Python's string immutability?"
   ]
  },
  {
   "cell_type": "code",
   "execution_count": 1,
   "id": "26169188",
   "metadata": {},
   "outputs": [
    {
     "ename": "TypeError",
     "evalue": "'str' object does not support item assignment",
     "output_type": "error",
     "traceback": [
      "\u001b[0;31m---------------------------------------------------------------------------\u001b[0m",
      "\u001b[0;31mTypeError\u001b[0m                                 Traceback (most recent call last)",
      "Cell \u001b[0;32mIn[1], line 2\u001b[0m\n\u001b[1;32m      1\u001b[0m string \u001b[38;5;241m=\u001b[39m \u001b[38;5;124m\"\u001b[39m\u001b[38;5;124manees\u001b[39m\u001b[38;5;124m\"\u001b[39m\n\u001b[0;32m----> 2\u001b[0m \u001b[43mstring\u001b[49m\u001b[43m[\u001b[49m\u001b[38;5;241;43m-\u001b[39;49m\u001b[38;5;241;43m1\u001b[39;49m\u001b[43m]\u001b[49m \u001b[38;5;241m=\u001b[39m \u001b[38;5;124m\"\u001b[39m\u001b[38;5;124mf\u001b[39m\u001b[38;5;124m\"\u001b[39m\n",
      "\u001b[0;31mTypeError\u001b[0m: 'str' object does not support item assignment"
     ]
    }
   ],
   "source": [
    "string = \"anees\"\n",
    "string[-1] = \"f\""
   ]
  },
  {
   "cell_type": "raw",
   "id": "09e38bfd",
   "metadata": {},
   "source": [
    "Actually strings are immutable objects in Python. Once a string is created, it cannot be modified. if we try to assign the values we will get type error"
   ]
  },
  {
   "cell_type": "markdown",
   "id": "58203902",
   "metadata": {},
   "source": [
    "# Q2. Does using the += operator to concatenate strings violate Python's string immutability? Why or why not?"
   ]
  },
  {
   "cell_type": "code",
   "execution_count": 2,
   "id": "fcfd2c40",
   "metadata": {},
   "outputs": [
    {
     "data": {
      "text/plain": [
       "4429424112"
      ]
     },
     "execution_count": 2,
     "metadata": {},
     "output_type": "execute_result"
    }
   ],
   "source": [
    "id(string)"
   ]
  },
  {
   "cell_type": "code",
   "execution_count": 3,
   "id": "dbedf35f",
   "metadata": {},
   "outputs": [],
   "source": [
    "string += \"a\""
   ]
  },
  {
   "cell_type": "code",
   "execution_count": 4,
   "id": "7aba0927",
   "metadata": {},
   "outputs": [
    {
     "data": {
      "text/plain": [
       "4432817968"
      ]
     },
     "execution_count": 4,
     "metadata": {},
     "output_type": "execute_result"
    }
   ],
   "source": [
    "id(string)"
   ]
  },
  {
   "cell_type": "raw",
   "id": "87c9cfd7",
   "metadata": {},
   "source": [
    "when we try to use += operator, a new string object is being created with a new memory location. The original string object remains unchanged and retains its original memory location, hence it is immutable still."
   ]
  },
  {
   "cell_type": "markdown",
   "id": "91b26a33",
   "metadata": {},
   "source": [
    "# Q3. In Python, how many different ways are there to index a character?"
   ]
  },
  {
   "cell_type": "code",
   "execution_count": 5,
   "id": "87b5de55",
   "metadata": {},
   "outputs": [
    {
     "data": {
      "text/plain": [
       "'n'"
      ]
     },
     "execution_count": 5,
     "metadata": {},
     "output_type": "execute_result"
    }
   ],
   "source": [
    "string[1]"
   ]
  },
  {
   "cell_type": "raw",
   "id": "06a8fb3e",
   "metadata": {},
   "source": [
    "Above method is the only way to index a character in string"
   ]
  },
  {
   "cell_type": "markdown",
   "id": "75010969",
   "metadata": {},
   "source": [
    "# Q4. What is the relationship between indexing and slicing?"
   ]
  },
  {
   "cell_type": "raw",
   "id": "e7e3461c",
   "metadata": {},
   "source": [
    "Indexing and slicing are related concepts for accessing elements in a string. Indexing is used to access a single element. However slicing is used to access a range of elements in the sequence by specifying the start and end indices."
   ]
  },
  {
   "cell_type": "markdown",
   "id": "5409bee9",
   "metadata": {},
   "source": [
    "# Q5. What is an indexed character's exact data type? What is the data form of a slicing-generated substring?"
   ]
  },
  {
   "cell_type": "raw",
   "id": "244de490",
   "metadata": {},
   "source": [
    "Indexed character or slicing generated substring of a string are of the str data type"
   ]
  },
  {
   "cell_type": "markdown",
   "id": "432146ce",
   "metadata": {},
   "source": [
    "# Q6. What is the relationship between string and character \"types\" in Python?"
   ]
  },
  {
   "cell_type": "raw",
   "id": "ca6288d4",
   "metadata": {},
   "source": [
    " In python there is no separate data type for \"character\". Generally string is a sequence of characters. "
   ]
  },
  {
   "cell_type": "markdown",
   "id": "25735c76",
   "metadata": {},
   "source": [
    "# Q7. Identify at least two operators and one method that allow you to combine one or more smaller strings to create a larger string."
   ]
  },
  {
   "cell_type": "raw",
   "id": "925cbb97",
   "metadata": {},
   "source": [
    "\"+\", \"+=\" :  By using these two operator we can combine strings.\n",
    "\"\".join(my_list): By using this method we can combine list of strings to larger strings"
   ]
  },
  {
   "cell_type": "markdown",
   "id": "dc6ff03a",
   "metadata": {},
   "source": [
    "# Q8. What is the benefit of first checking the target string with in or not in before using the index method to find a substring?"
   ]
  },
  {
   "cell_type": "raw",
   "id": "9770ded9",
   "metadata": {},
   "source": [
    "If we are not using in or not in before using index it raises a ValueError"
   ]
  },
  {
   "cell_type": "code",
   "execution_count": 6,
   "id": "7f52addb",
   "metadata": {},
   "outputs": [
    {
     "ename": "ValueError",
     "evalue": "substring not found",
     "output_type": "error",
     "traceback": [
      "\u001b[0;31m---------------------------------------------------------------------------\u001b[0m",
      "\u001b[0;31mValueError\u001b[0m                                Traceback (most recent call last)",
      "Cell \u001b[0;32mIn[6], line 1\u001b[0m\n\u001b[0;32m----> 1\u001b[0m \u001b[43mstring\u001b[49m\u001b[38;5;241;43m.\u001b[39;49m\u001b[43mindex\u001b[49m\u001b[43m(\u001b[49m\u001b[38;5;124;43m\"\u001b[39;49m\u001b[38;5;124;43mk\u001b[39;49m\u001b[38;5;124;43m\"\u001b[39;49m\u001b[43m)\u001b[49m\n",
      "\u001b[0;31mValueError\u001b[0m: substring not found"
     ]
    }
   ],
   "source": [
    "string.index(\"k\")"
   ]
  },
  {
   "cell_type": "code",
   "execution_count": 7,
   "id": "9ec91ccb",
   "metadata": {},
   "outputs": [
    {
     "name": "stdout",
     "output_type": "stream",
     "text": [
      "not found\n"
     ]
    }
   ],
   "source": [
    "if \"k\" in string:\n",
    "    print(string.index(\"k\"))\n",
    "else:\n",
    "    print(f\"not found\")"
   ]
  },
  {
   "cell_type": "markdown",
   "id": "7c08eb76",
   "metadata": {},
   "source": [
    "# Q9. Which operators and built-in string methods produce simple Boolean (true/false) results?"
   ]
  },
  {
   "cell_type": "code",
   "execution_count": 8,
   "id": "4ef10215",
   "metadata": {},
   "outputs": [],
   "source": [
    "string = \"anees\""
   ]
  },
  {
   "cell_type": "code",
   "execution_count": 9,
   "id": "3f0c2116",
   "metadata": {},
   "outputs": [
    {
     "name": "stdout",
     "output_type": "stream",
     "text": [
      "match found true\n"
     ]
    }
   ],
   "source": [
    "if string == \"anees\":\n",
    "    print(\"match found true\")"
   ]
  },
  {
   "cell_type": "code",
   "execution_count": 10,
   "id": "c1b591de",
   "metadata": {},
   "outputs": [
    {
     "name": "stdout",
     "output_type": "stream",
     "text": [
      "not found true\n"
     ]
    }
   ],
   "source": [
    "if string != \"anees1\":\n",
    "    print(\"not found true\")"
   ]
  },
  {
   "cell_type": "code",
   "execution_count": 11,
   "id": "3047240e",
   "metadata": {},
   "outputs": [
    {
     "name": "stdout",
     "output_type": "stream",
     "text": [
      "alphabetical true\n"
     ]
    }
   ],
   "source": [
    "if string.isalpha():\n",
    "    print(\"alphabetical true\")"
   ]
  },
  {
   "cell_type": "code",
   "execution_count": 12,
   "id": "b8fe4678",
   "metadata": {},
   "outputs": [
    {
     "name": "stdout",
     "output_type": "stream",
     "text": [
      "not digit true\n"
     ]
    }
   ],
   "source": [
    "if not string.isdigit():\n",
    "    print(\"not digit true\")"
   ]
  },
  {
   "cell_type": "raw",
   "id": "2e4cf2e4",
   "metadata": {},
   "source": [
    "\"==\", \"!=\": Operators can produce boolean results\n",
    "\"isalpha\", \"isdigit\": Builtin string methods can produce boolean results"
   ]
  },
  {
   "cell_type": "code",
   "execution_count": null,
   "id": "671275ad",
   "metadata": {},
   "outputs": [],
   "source": []
  }
 ],
 "metadata": {
  "kernelspec": {
   "display_name": "Python 3 (ipykernel)",
   "language": "python",
   "name": "python3"
  },
  "language_info": {
   "codemirror_mode": {
    "name": "ipython",
    "version": 3
   },
   "file_extension": ".py",
   "mimetype": "text/x-python",
   "name": "python",
   "nbconvert_exporter": "python",
   "pygments_lexer": "ipython3",
   "version": "3.8.16"
  }
 },
 "nbformat": 4,
 "nbformat_minor": 5
}
