{
 "cells": [
  {
   "cell_type": "markdown",
   "id": "d958f1d6",
   "metadata": {},
   "source": [
    "# Q1. Describe three applications for exception processing."
   ]
  },
  {
   "cell_type": "raw",
   "id": "1d4532a4",
   "metadata": {},
   "source": [
    "1. Error handling: Exceptions are often used to handle errors that can occur during program execution using exception handling, we can handle these errors and prevent our program from crashing.\n",
    "\n",
    "2. Debugging: Exceptions can also be used to help with debugging. When an exception is raised, it provides a detailed traceback that can help us identify the source of the error and fix the problem.\n",
    "\n",
    "3. Flow control: Exceptions can be used to control the flow of a program. For example, if a specific condition is not met, an exception can be raised to jump to a different part of the program or terminate the program entirely."
   ]
  },
  {
   "cell_type": "markdown",
   "id": "7f406817",
   "metadata": {},
   "source": [
    "# Q2. What happens if you don't do something extra to treat an exception?"
   ]
  },
  {
   "cell_type": "raw",
   "id": "119ec903",
   "metadata": {},
   "source": [
    "It we didnt use exception in our program, there would be some case we might receive unexpected inputs which will terminate the program and it will print a traceback message to the console."
   ]
  },
  {
   "cell_type": "markdown",
   "id": "a5dfbb8f",
   "metadata": {},
   "source": [
    "# Q3. What are your options for recovering from an exception in your script?"
   ]
  },
  {
   "cell_type": "raw",
   "id": "a2cf69a5",
   "metadata": {},
   "source": [
    "By using try except else finally options, we can ensure that our program remains robust and continues to execute even in the presence of exceptions."
   ]
  },
  {
   "cell_type": "code",
   "execution_count": 14,
   "id": "61da0448",
   "metadata": {},
   "outputs": [
    {
     "name": "stdout",
     "output_type": "stream",
     "text": [
      "Enter a number: 0\n",
      "Cannot divide by zero.\n",
      "Program execution completed.\n"
     ]
    }
   ],
   "source": [
    "import random\n",
    "\n",
    "try:\n",
    "    x = int(input(\"Enter a number: \"))\n",
    "    y = random.randint(0, 1)\n",
    "    answer = x / y\n",
    "except ValueError:\n",
    "    print(\"Invalid input. Please enter a number.\")\n",
    "except ZeroDivisionError:\n",
    "    print(\"Cannot divide by zero.\")\n",
    "else:\n",
    "    print(\"Result is:\", answer)\n",
    "finally:\n",
    "    print(\"Program execution completed.\")"
   ]
  },
  {
   "cell_type": "markdown",
   "id": "fd51816a",
   "metadata": {},
   "source": [
    "# Q4. Describe two methods for triggering exceptions in your script."
   ]
  },
  {
   "cell_type": "raw",
   "id": "764acd70",
   "metadata": {},
   "source": [
    "Using the raise statement: This statement raises an exception in the code. we can use the raise statement with a specific exception class to trigger an exception.\n",
    "\n",
    "Built-in function that raises an exception: Many built-in functions are in Python which raise exceptions when certain conditions aren't met. For example, open() function raises a FileNotFoundError exception if it can't find the file in the given location"
   ]
  },
  {
   "cell_type": "markdown",
   "id": "5cae5731",
   "metadata": {},
   "source": [
    "# Q5. Identify two methods for specifying actions to be executed at termination time, regardless of whether or not an exception exists.\n"
   ]
  },
  {
   "cell_type": "raw",
   "id": "816642c9",
   "metadata": {},
   "source": [
    "Using the finally block: The finally block is executed no matter what happens in the try block. It is used to specify actions that must be ran whether an exception was raised or not. For example, closing a file needs to be done even exception occur or not. we dont \n",
    "\n",
    "Using the atexit module: atexit module provides a way to register functions to be called when a Python script is about to exit. They are called regardless of whether an exception was raised or not."
   ]
  }
 ],
 "metadata": {
  "kernelspec": {
   "display_name": "Python 3 (ipykernel)",
   "language": "python",
   "name": "python3"
  },
  "language_info": {
   "codemirror_mode": {
    "name": "ipython",
    "version": 3
   },
   "file_extension": ".py",
   "mimetype": "text/x-python",
   "name": "python",
   "nbconvert_exporter": "python",
   "pygments_lexer": "ipython3",
   "version": "3.8.16"
  }
 },
 "nbformat": 4,
 "nbformat_minor": 5
}
