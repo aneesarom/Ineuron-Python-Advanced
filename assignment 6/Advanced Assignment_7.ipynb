{
 "cells": [
  {
   "cell_type": "markdown",
   "id": "f11cb571",
   "metadata": {},
   "source": [
    "# Q1. What is the purpose of the try statement?"
   ]
  },
  {
   "cell_type": "raw",
   "id": "3abc5850",
   "metadata": {},
   "source": [
    "Try block will check whether the line of code work without raising an error. If it rasies it will pass the exception to the exception block"
   ]
  },
  {
   "cell_type": "markdown",
   "id": "93776ead",
   "metadata": {},
   "source": [
    "# Q2. What are the two most popular try statement variations?"
   ]
  },
  {
   "cell_type": "raw",
   "id": "c1b587bb",
   "metadata": {},
   "source": [
    "try-except block: This block allows us to catch and handle exceptions that may occur in the try block.\n",
    "try-finally block: This block allows us to execute the code regardless of whether an exception is raised or not."
   ]
  },
  {
   "cell_type": "markdown",
   "id": "67fae922",
   "metadata": {},
   "source": [
    "# Q3. What is the purpose of the raise statement?"
   ]
  },
  {
   "cell_type": "raw",
   "id": "6f7e74e0",
   "metadata": {},
   "source": [
    "Raise statement is used to raise exceptions in Python. It can be used to raise built-in or user-defined exceptions."
   ]
  },
  {
   "cell_type": "code",
   "execution_count": 6,
   "id": "af7008d8",
   "metadata": {},
   "outputs": [
    {
     "name": "stdout",
     "output_type": "stream",
     "text": [
      "x must be non-negative\n"
     ]
    }
   ],
   "source": [
    "class CustomError(Exception):\n",
    "    pass\n",
    "\n",
    "def my_function(x):\n",
    "    if x < 0:\n",
    "        raise CustomError(\"x must be non-negative\")\n",
    "    else:\n",
    "        return x ** 2\n",
    "\n",
    "try:\n",
    "    result = my_function(-5)\n",
    "except CustomError as e:\n",
    "    print(str(e))"
   ]
  },
  {
   "cell_type": "markdown",
   "id": "654d7c58",
   "metadata": {},
   "source": [
    "# Q4. What does the assert statement do, and what other statement is it like?"
   ]
  },
  {
   "cell_type": "raw",
   "id": "f152a0ae",
   "metadata": {},
   "source": [
    "The assert keyword is used when debugging code. The assert keyword lets you test if a condition in your code returns True, if not, the program will raise an AssertionError. It is like if statement"
   ]
  },
  {
   "cell_type": "code",
   "execution_count": 19,
   "id": "f9d23fa3",
   "metadata": {},
   "outputs": [],
   "source": [
    "assert 2>1"
   ]
  },
  {
   "cell_type": "code",
   "execution_count": 20,
   "id": "5c47c7f7",
   "metadata": {},
   "outputs": [
    {
     "ename": "AssertionError",
     "evalue": "Condition is not true",
     "output_type": "error",
     "traceback": [
      "\u001b[0;31m---------------------------------------------------------------------------\u001b[0m",
      "\u001b[0;31mAssertionError\u001b[0m                            Traceback (most recent call last)",
      "Cell \u001b[0;32mIn[20], line 1\u001b[0m\n\u001b[0;32m----> 1\u001b[0m \u001b[38;5;28;01massert\u001b[39;00m \u001b[38;5;241m0\u001b[39m\u001b[38;5;241m>\u001b[39m\u001b[38;5;241m1\u001b[39m, \u001b[38;5;124m\"\u001b[39m\u001b[38;5;124mCondition is not true\u001b[39m\u001b[38;5;124m\"\u001b[39m\n",
      "\u001b[0;31mAssertionError\u001b[0m: Condition is not true"
     ]
    }
   ],
   "source": [
    "assert 0>1, \"Condition is not true\""
   ]
  },
  {
   "cell_type": "markdown",
   "id": "56a18435",
   "metadata": {},
   "source": [
    "# Q5. What is the purpose of the with/as argument, and what other statement is it like?"
   ]
  },
  {
   "cell_type": "raw",
   "id": "ed75c4cb",
   "metadata": {},
   "source": [
    "The with/as statement in Python is used for resource management(like file streams) and exception handling. It provides a way to ensure that a resource is properly and automatically cleaned up after being used. It is similar to a try/finally block"
   ]
  }
 ],
 "metadata": {
  "kernelspec": {
   "display_name": "Python 3 (ipykernel)",
   "language": "python",
   "name": "python3"
  },
  "language_info": {
   "codemirror_mode": {
    "name": "ipython",
    "version": 3
   },
   "file_extension": ".py",
   "mimetype": "text/x-python",
   "name": "python",
   "nbconvert_exporter": "python",
   "pygments_lexer": "ipython3",
   "version": "3.8.16"
  }
 },
 "nbformat": 4,
 "nbformat_minor": 5
}
