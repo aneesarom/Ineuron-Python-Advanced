{
 "cells": [
  {
   "cell_type": "markdown",
   "id": "7207718a",
   "metadata": {},
   "source": [
    "# Q1. In Python 3.X, what are the names and functions of string object types?"
   ]
  },
  {
   "cell_type": "raw",
   "id": "0c0922f6",
   "metadata": {},
   "source": [
    "str: Represents a sequence of Unicode characters\n",
    "bytes: Represents a sequence of bytes\n",
    "bytearray: Similar to bytes, but it is mutable"
   ]
  },
  {
   "cell_type": "code",
   "execution_count": 8,
   "id": "756ddaa3",
   "metadata": {},
   "outputs": [],
   "source": [
    "string_1 = \"hello\"\n",
    "string_2 = b\"hello\"\n",
    "string_3 = bytearray(b\"hello\")"
   ]
  },
  {
   "cell_type": "code",
   "execution_count": 9,
   "id": "bc5822ff",
   "metadata": {},
   "outputs": [
    {
     "data": {
      "text/plain": [
       "str"
      ]
     },
     "execution_count": 9,
     "metadata": {},
     "output_type": "execute_result"
    }
   ],
   "source": [
    "type(string_1)"
   ]
  },
  {
   "cell_type": "code",
   "execution_count": 6,
   "id": "bd5bad8c",
   "metadata": {},
   "outputs": [
    {
     "data": {
      "text/plain": [
       "bytes"
      ]
     },
     "execution_count": 6,
     "metadata": {},
     "output_type": "execute_result"
    }
   ],
   "source": [
    "type(string_2)"
   ]
  },
  {
   "cell_type": "code",
   "execution_count": 7,
   "id": "ec013ea6",
   "metadata": {},
   "outputs": [
    {
     "data": {
      "text/plain": [
       "bytearray"
      ]
     },
     "execution_count": 7,
     "metadata": {},
     "output_type": "execute_result"
    }
   ],
   "source": [
    "type(string_3)"
   ]
  },
  {
   "cell_type": "markdown",
   "id": "00805715",
   "metadata": {},
   "source": [
    "# Q2. How do the string forms in Python 3.X vary in terms of operations?"
   ]
  },
  {
   "cell_type": "raw",
   "id": "272cdb7d",
   "metadata": {},
   "source": [
    "1. str and bytes are immutable. however bytearray is mutable\n",
    "2. str has many built-in string methods, such as split(), strip(). However few methods cant be used with bytes and bytesarray.\n",
    "3. str is a Unicode string type, which means that it can represent characters from any language. however bytes and bytearray can only represent ASCII characters by default."
   ]
  },
  {
   "cell_type": "markdown",
   "id": "82c21b34",
   "metadata": {},
   "source": [
    "# Q3. In 3.X, how do you put non-ASCII Unicode characters in a string?"
   ]
  },
  {
   "cell_type": "raw",
   "id": "56407509",
   "metadata": {},
   "source": [
    "In Python 3, We can directly include non-ASCII Unicode characters in a string without using Unicode escape sequences or Unicode string literals."
   ]
  },
  {
   "cell_type": "code",
   "execution_count": 20,
   "id": "a179310f",
   "metadata": {},
   "outputs": [
    {
     "data": {
      "text/plain": [
       "'€ is the Unicode code point for the grinning face emoji 😄'"
      ]
     },
     "execution_count": 20,
     "metadata": {},
     "output_type": "execute_result"
    }
   ],
   "source": [
    "my_string = \"€ is the Unicode code point for the grinning face emoji 😄\"\n",
    "my_string"
   ]
  },
  {
   "cell_type": "markdown",
   "id": "dbbe3a39",
   "metadata": {},
   "source": [
    "# Q4. In Python 3.X, what are the key differences between text-mode and binary-mode files?"
   ]
  },
  {
   "cell_type": "raw",
   "id": "43949f9a",
   "metadata": {},
   "source": [
    "1. In text-mode files, the data is automatically encoded and decoded using the specified encoding, while in binary-mode files, the data is not encoded or decoded.\n",
    "2. Text-mode files are used for text data, while binary-mode files are used for non-text data such as images, audio files, and binary executables."
   ]
  },
  {
   "cell_type": "markdown",
   "id": "ab1a7d06",
   "metadata": {},
   "source": [
    "# Q5. How can you interpret a Unicode text file containing text encoded in a different encoding than your platform's default?"
   ]
  },
  {
   "cell_type": "raw",
   "id": "e7791202",
   "metadata": {},
   "source": [
    "1. Text-mode files are used for text data and treat the file contents as Unicode strings, while binary-mode files are used for non-text data and treat the file contents as bytes.\n",
    "2. When writing to a text-mode file, the data is encoded into bytes (default is UTF-8) before writing to the file, while when writing to a binary-mode file, the data is written to the file as is, without any encoding or decoding."
   ]
  },
  {
   "cell_type": "markdown",
   "id": "3f8810de",
   "metadata": {},
   "source": [
    "# Q6. What is the best way to make a Unicode text file in a particular encoding format?"
   ]
  },
  {
   "cell_type": "code",
   "execution_count": 23,
   "id": "91da97bc",
   "metadata": {},
   "outputs": [],
   "source": [
    "text = \"Hello, world! This is a Unicode text file.\"\n",
    "filename = \"my_file.txt\"\n",
    "encoding = \"utf-8\"\n",
    "\n",
    "with open(filename, mode='wt', encoding=encoding) as file:\n",
    "    file.write(text)"
   ]
  },
  {
   "cell_type": "markdown",
   "id": "ed714804",
   "metadata": {},
   "source": [
    "# Q7. What qualifies ASCII text as a form of Unicode text?"
   ]
  },
  {
   "cell_type": "raw",
   "id": "842d373f",
   "metadata": {},
   "source": [
    "ASCII text qualifies as a form of Unicode text because it is a subset of the Unicode character set. Any string that contains only ASCII characters is already a valid Unicode string"
   ]
  },
  {
   "cell_type": "markdown",
   "id": "108320fe",
   "metadata": {},
   "source": [
    "# Q8. How much of an effect does the change in string types in Python 3.X have on your code?"
   ]
  },
  {
   "cell_type": "code",
   "execution_count": 1,
   "id": "8fa4a984",
   "metadata": {},
   "outputs": [
    {
     "ename": "TypeError",
     "evalue": "can only concatenate str (not \"bytes\") to str",
     "output_type": "error",
     "traceback": [
      "\u001b[0;31m---------------------------------------------------------------------------\u001b[0m",
      "\u001b[0;31mTypeError\u001b[0m                                 Traceback (most recent call last)",
      "Cell \u001b[0;32mIn[1], line 1\u001b[0m\n\u001b[0;32m----> 1\u001b[0m \u001b[38;5;28mprint\u001b[39m(\u001b[38;5;124;43m'\u001b[39;49m\u001b[38;5;124;43mnote that we cannot add a string\u001b[39;49m\u001b[38;5;124;43m'\u001b[39;49m\u001b[43m \u001b[49m\u001b[38;5;241;43m+\u001b[39;49m\u001b[43m \u001b[49m\u001b[38;5;124;43mb\u001b[39;49m\u001b[38;5;124;43m'\u001b[39;49m\u001b[38;5;124;43mto bytes\u001b[39;49m\u001b[38;5;124;43m'\u001b[39;49m)\n",
      "\u001b[0;31mTypeError\u001b[0m: can only concatenate str (not \"bytes\") to str"
     ]
    }
   ],
   "source": [
    "print('note that we cannot add a string' + b'to bytes')"
   ]
  },
  {
   "cell_type": "raw",
   "id": "c6ed6028",
   "metadata": {},
   "source": [
    "Above code is possible in python 2 but it is incomaptible with python 3"
   ]
  },
  {
   "cell_type": "code",
   "execution_count": 2,
   "id": "47ce64be",
   "metadata": {},
   "outputs": [
    {
     "name": "stdout",
     "output_type": "stream",
     "text": [
      "b'note that we can add a string to bytes'\n"
     ]
    }
   ],
   "source": [
    "# We have to update the code to do that\n",
    "string = \"note that we can add a string\"\n",
    "bytestring = b' to bytes'\n",
    "result = string.encode() + bytestring\n",
    "print(result)"
   ]
  },
  {
   "cell_type": "code",
   "execution_count": null,
   "id": "b3b247c7",
   "metadata": {},
   "outputs": [],
   "source": []
  }
 ],
 "metadata": {
  "kernelspec": {
   "display_name": "Python 3 (ipykernel)",
   "language": "python",
   "name": "python3"
  },
  "language_info": {
   "codemirror_mode": {
    "name": "ipython",
    "version": 3
   },
   "file_extension": ".py",
   "mimetype": "text/x-python",
   "name": "python",
   "nbconvert_exporter": "python",
   "pygments_lexer": "ipython3",
   "version": "3.8.16"
  }
 },
 "nbformat": 4,
 "nbformat_minor": 5
}
