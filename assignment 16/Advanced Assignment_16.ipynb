{
 "cells": [
  {
   "cell_type": "markdown",
   "id": "167b873b",
   "metadata": {},
   "source": [
    "# Q1. What is the benefit of regular expressions?"
   ]
  },
  {
   "cell_type": "raw",
   "id": "c8c28e26",
   "metadata": {},
   "source": [
    "Regular expressions provide the ability to search for complex patterns in text that may be hard or impossible to locate using simple string operations."
   ]
  },
  {
   "cell_type": "markdown",
   "id": "9c1dd59b",
   "metadata": {},
   "source": [
    "# Q2. Describe the difference between the effects of \"(ab)c+\" and \"a(bc)+.\" Which of these, if any, is the unqualified pattern \"abc+\"?"
   ]
  },
  {
   "cell_type": "raw",
   "id": "1b7f22e6",
   "metadata": {},
   "source": [
    "Regular expression \"(ab)c+\": matches a sequence of characters that start with \"ab\" followed by one or more occurrences of \"c\".\n",
    "\n",
    "Regular expression \"a(bc)+\":  matches a sequence of characters that start with \"a\" followed by one or more occurrences of the sequence \"bc\"\n",
    "\n",
    "Both of the regular expressions mentioned in the question, \"(ab)c+\" and \"a(bc)+\", do not match this unqualified pattern directly."
   ]
  },
  {
   "cell_type": "markdown",
   "id": "e8d5ba4a",
   "metadata": {},
   "source": [
    "# Q3. How much do you need to use the following sentence while using regular expressions?"
   ]
  },
  {
   "cell_type": "raw",
   "id": "84b31cbe",
   "metadata": {},
   "source": [
    "\"import re\" is required once in a program."
   ]
  },
  {
   "cell_type": "markdown",
   "id": "fee2fcf0",
   "metadata": {},
   "source": [
    "# Q4. Which characters have special significance in square brackets when expressing a range, and under what circumstances?"
   ]
  },
  {
   "cell_type": "raw",
   "id": "531c3ac7",
   "metadata": {},
   "source": [
    "\"-\": This is used to specify a range of characters, such as [a-z], which matches any lowercase letter from \"a\" to \"z\".\n",
    "\n",
    "\"^\": When used as the first character inside square brackets, it negates the set of characters specified."
   ]
  },
  {
   "cell_type": "markdown",
   "id": "c2c2ce9d",
   "metadata": {},
   "source": [
    "# Q5. How does compiling a regular-expression object benefit you?"
   ]
  },
  {
   "cell_type": "raw",
   "id": "1b742425",
   "metadata": {},
   "source": [
    "Once the regular expression is compiled, it can be stored as a separate object and reused multiple times, which saves time on re-evaluating the same pattern again and again."
   ]
  },
  {
   "cell_type": "markdown",
   "id": "edb6b38f",
   "metadata": {},
   "source": [
    "# Q6. What are some examples of how to use the match object returned by re.match and re.search?"
   ]
  },
  {
   "cell_type": "code",
   "execution_count": 26,
   "id": "2d74b5e5",
   "metadata": {},
   "outputs": [
    {
     "name": "stdout",
     "output_type": "stream",
     "text": [
      "Enter the name: anees aro\n",
      "anees aro\n"
     ]
    }
   ],
   "source": [
    "import re\n",
    "\n",
    "string = input(\"Enter the name: \")\n",
    "pattern = r\"^[^0-9]+$\"\n",
    "\n",
    "match = re.search(pattern, string)\n",
    "if match:\n",
    "    print(match.group())\n",
    "else:\n",
    "    print(\"Entered detail contains other than string characters\")"
   ]
  },
  {
   "cell_type": "code",
   "execution_count": 25,
   "id": "3f0de3c0",
   "metadata": {},
   "outputs": [
    {
     "name": "stdout",
     "output_type": "stream",
     "text": [
      "Enter the name: 123-567-789\n",
      "123-567-789\n"
     ]
    }
   ],
   "source": [
    "pattern = r'(\\d\\d\\d)-(\\d\\d\\d)-(\\d\\d\\d)'\n",
    "\n",
    "number = input(\"Enter the name: \")\n",
    "\n",
    "match = re.match(pattern, number)\n",
    "if match:\n",
    "    print(match.group())\n",
    "else:\n",
    "    print(\"It is not matching\")"
   ]
  },
  {
   "cell_type": "markdown",
   "id": "f99d4399",
   "metadata": {},
   "source": [
    "# Q7. What is the difference between using a vertical bar (|) as an alteration and using square brackets as a character set?"
   ]
  },
  {
   "cell_type": "code",
   "execution_count": 37,
   "id": "71a8efa2",
   "metadata": {},
   "outputs": [
    {
     "data": {
      "text/plain": [
       "['cat', 'dog']"
      ]
     },
     "execution_count": 37,
     "metadata": {},
     "output_type": "execute_result"
    }
   ],
   "source": [
    "pattern = r'cat|dog'\n",
    "\n",
    "text = 'I have a cat and a dog'\n",
    "\n",
    "matches = re.findall(pattern, text)\n",
    "\n",
    "matches"
   ]
  },
  {
   "cell_type": "code",
   "execution_count": 38,
   "id": "0c51e0dd",
   "metadata": {},
   "outputs": [
    {
     "name": "stdout",
     "output_type": "stream",
     "text": [
      "['b']\n",
      "['c']\n",
      "['a']\n"
     ]
    }
   ],
   "source": [
    "pattern = \"[abc]\"\n",
    "\n",
    "li = [\"b\", \"c\", \"d\", \"u\", \"a\"]\n",
    "\n",
    "for i in li:\n",
    "    match = re.findall(pattern, i)\n",
    "    if match:\n",
    "        print(match)"
   ]
  },
  {
   "cell_type": "markdown",
   "id": "94d837ec",
   "metadata": {},
   "source": [
    "# Q8. In regular-expression search patterns, why is it necessary to use the raw-string indicator (r)? In   replacement strings?"
   ]
  },
  {
   "cell_type": "raw",
   "id": "5400a305",
   "metadata": {},
   "source": [
    "Regular expressions often uses raw strings becauses it uses lot of backslashes \\ and it will be difficult to add escape characters to each backslash and special characters."
   ]
  }
 ],
 "metadata": {
  "kernelspec": {
   "display_name": "Python 3 (ipykernel)",
   "language": "python",
   "name": "python3"
  },
  "language_info": {
   "codemirror_mode": {
    "name": "ipython",
    "version": 3
   },
   "file_extension": ".py",
   "mimetype": "text/x-python",
   "name": "python",
   "nbconvert_exporter": "python",
   "pygments_lexer": "ipython3",
   "version": "3.8.16"
  }
 },
 "nbformat": 4,
 "nbformat_minor": 5
}
