{
 "cells": [
  {
   "cell_type": "markdown",
   "id": "e15f201c",
   "metadata": {},
   "source": [
    "# 1. What is the concept of an abstract superclass?"
   ]
  },
  {
   "cell_type": "raw",
   "id": "4b70cd43",
   "metadata": {},
   "source": [
    "Abstract class is used as a template for other classes to inherit from, and it defines a set of methods that must be implemented by the subclass. when we create an abstract base class, we are defining a template that other classes must follow. An abstract class can define abstract methods, which are methods that have no implementation in the abstract base class, but must be implemented by the subclasses."
   ]
  },
  {
   "cell_type": "code",
   "execution_count": 16,
   "id": "dd1918ac",
   "metadata": {},
   "outputs": [],
   "source": [
    "from abc import ABC, abstractmethod\n",
    "\n",
    "class Animal(ABC):\n",
    "    \n",
    "    @abstractmethod\n",
    "    def sound(self):\n",
    "        pass\n",
    "\n",
    "class Cat(Animal):\n",
    "    \n",
    "    def sound(self):\n",
    "        print(\"Meow!\")"
   ]
  },
  {
   "cell_type": "markdown",
   "id": "07a91e39",
   "metadata": {},
   "source": [
    "# 2. What happens when a class statement's top level contains a basic assignment statement?"
   ]
  },
  {
   "cell_type": "code",
   "execution_count": 3,
   "id": "ddd8773e",
   "metadata": {},
   "outputs": [],
   "source": [
    "class ExampleClass:\n",
    "    a = 10 #class level variable\n",
    "\n",
    "    def __init__(self, b):\n",
    "        self.b = b"
   ]
  },
  {
   "cell_type": "raw",
   "id": "ce410ed5",
   "metadata": {},
   "source": [
    "If we declare basic assignment statement that creates a class-level variable. This variable can be accessed using the class name or using object name. if we access it through object name it will be unique for the specified object. But if we try to access it through class name. it will be reflect all instances of class."
   ]
  },
  {
   "cell_type": "markdown",
   "id": "4a917bdd",
   "metadata": {},
   "source": [
    "# 3. Why does a class need to manually call a superclass's __init__ method?"
   ]
  },
  {
   "cell_type": "raw",
   "id": "edeb6627",
   "metadata": {},
   "source": [
    "since sub class has its own __init__ method, the subclass must call the superclass's __init__ method using the super() function. This ensures that the superclass's initialization code is executed before the subclass's initialization code."
   ]
  },
  {
   "cell_type": "markdown",
   "id": "a8d8933c",
   "metadata": {},
   "source": [
    "# 4. How can you augment, instead of completely replacing, an inherited method?"
   ]
  },
  {
   "cell_type": "raw",
   "id": "0024a7d6",
   "metadata": {},
   "source": [
    "By using method overriding. Method overriding is an ability of oops that allows a child class to provide a \n",
    "the specific implementation of a method wihout completely replacing the super-class/parent classes but by adding some functionality to it."
   ]
  },
  {
   "cell_type": "code",
   "execution_count": 12,
   "id": "db4fb497",
   "metadata": {},
   "outputs": [],
   "source": [
    "class Premium:\n",
    "    \n",
    "    def __init__(self):\n",
    "        self.topics = []\n",
    "        \n",
    "    def add_course(self, session):\n",
    "        print(f\"{session.capitalize()} has been added into the Dashboard.\")\n",
    "              \n",
    "\n",
    "class Fsds(Premium):\n",
    "              \n",
    "    def add_course(self, session):\n",
    "        print(\"Notification! Your Dashboard got Unlocked with New Lecture\")\n",
    "        Premium.add_course(self,session)"
   ]
  },
  {
   "cell_type": "code",
   "execution_count": 13,
   "id": "553e74f2",
   "metadata": {},
   "outputs": [
    {
     "name": "stdout",
     "output_type": "stream",
     "text": [
      "Nlp has been added into the Dashboard.\n"
     ]
    }
   ],
   "source": [
    "premium = Premium()\n",
    "premium.add_course(\"NLP\")"
   ]
  },
  {
   "cell_type": "code",
   "execution_count": 14,
   "id": "b5cad552",
   "metadata": {},
   "outputs": [
    {
     "name": "stdout",
     "output_type": "stream",
     "text": [
      "Notification! Your Dashboard got Unlocked with New Lecture\n",
      "Nlp has been added into the Dashboard.\n"
     ]
    }
   ],
   "source": [
    "fsds = Fsds()\n",
    "fsds.add_course(\"NLP\")"
   ]
  },
  {
   "cell_type": "markdown",
   "id": "a34f497d",
   "metadata": {},
   "source": [
    "# 5. How is the local scope of a class different from that of a function?"
   ]
  },
  {
   "cell_type": "raw",
   "id": "36f0b7e6",
   "metadata": {},
   "source": [
    "When a variable is defined below the class name and before the init declaration, it becomes a class attribute and it is accessible to all the methods of the class. However when a variable is defined inside the method/function, it is only accessible within the methods and cannot be accessed outside of it."
   ]
  },
  {
   "cell_type": "code",
   "execution_count": null,
   "id": "8683ecdf",
   "metadata": {},
   "outputs": [],
   "source": []
  }
 ],
 "metadata": {
  "kernelspec": {
   "display_name": "Python 3 (ipykernel)",
   "language": "python",
   "name": "python3"
  },
  "language_info": {
   "codemirror_mode": {
    "name": "ipython",
    "version": 3
   },
   "file_extension": ".py",
   "mimetype": "text/x-python",
   "name": "python",
   "nbconvert_exporter": "python",
   "pygments_lexer": "ipython3",
   "version": "3.8.16"
  }
 },
 "nbformat": 4,
 "nbformat_minor": 5
}
