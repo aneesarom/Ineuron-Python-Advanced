{
 "cells": [
  {
   "cell_type": "markdown",
   "id": "c09c1f10",
   "metadata": {},
   "source": [
    "# Q1. What is the relationship between classes and modules?"
   ]
  },
  {
   "cell_type": "raw",
   "id": "dfb0b6ba",
   "metadata": {},
   "source": [
    "Classes and modules are both constructs in object-oriented programming that serves for different purposes. A class is used to define a blueprint for creating objects. a module is used to organize code and data that can be reused across multiple programs. It can contain multiple classes, functions, and variables."
   ]
  },
  {
   "cell_type": "markdown",
   "id": "a7ea3a0d",
   "metadata": {},
   "source": [
    "# Q2. How do you make instances and classes?"
   ]
  },
  {
   "cell_type": "raw",
   "id": "6d58c810",
   "metadata": {},
   "source": [
    "1. Define class keyword followed by class name.\n",
    "2. Definie the __init__ method and initialize all the required attributes\n",
    "3. Define any additional methods that are needed for the class.\n",
    "4. Create an object name and assign the class to it using the class name followed by parentheses.\n",
    "5. If the class has an __init__ method, provide the necessary arguments.\n",
    "6. The instance is then created and stored in the object"
   ]
  },
  {
   "cell_type": "markdown",
   "id": "32fcaa33",
   "metadata": {},
   "source": [
    "\n",
    "# Q3. Where and how should be class attributes created?"
   ]
  },
  {
   "cell_type": "raw",
   "id": "b1e92fee",
   "metadata": {},
   "source": [
    "1. Class attributes are created outside of any method/function which are shared by all instances of the class. \n",
    "2. We have to define the variable once we define the class name and before the init declaration. "
   ]
  },
  {
   "cell_type": "markdown",
   "id": "612f1f61",
   "metadata": {},
   "source": [
    "# Q4. Where and how are instance attributes created?"
   ]
  },
  {
   "cell_type": "raw",
   "id": "63952c4f",
   "metadata": {},
   "source": [
    "1. Instance attributes are created within the __init__ method.\n",
    "2. We have define it like self.{variable_name} self keyword refers to the instance"
   ]
  },
  {
   "cell_type": "markdown",
   "id": "76d3127e",
   "metadata": {},
   "source": [
    "# Q5. What does the term \"self\" in a Python class mean?"
   ]
  },
  {
   "cell_type": "raw",
   "id": "dc2751ee",
   "metadata": {},
   "source": [
    "Self keyword refers to the instance/object that has been created which means whatever attributes and methods are unique to each instance of the class."
   ]
  },
  {
   "cell_type": "markdown",
   "id": "d9737fb6",
   "metadata": {},
   "source": [
    "# Q6. How does a Python class handle operator overloading?"
   ]
  },
  {
   "cell_type": "raw",
   "id": "a0169b15",
   "metadata": {},
   "source": [
    "Python class allows operator overloading by defining special methods that correspond to specific operators. \n",
    "\n",
    "For example: \"+\" operator can be overloaded by defining the \"add\" method in a class."
   ]
  },
  {
   "cell_type": "markdown",
   "id": "b52297d4",
   "metadata": {},
   "source": [
    "# Q7. When do you consider allowing operator overloading of your classes?"
   ]
  },
  {
   "cell_type": "raw",
   "id": "da2e03c0",
   "metadata": {},
   "source": [
    "Operator overloading can be considered when we want to do mathematical operations such as +, -, *, / etc. between the instances of class"
   ]
  },
  {
   "cell_type": "markdown",
   "id": "cdde2b16",
   "metadata": {},
   "source": [
    "# Q8. What is the most popular form of operator overloading?"
   ]
  },
  {
   "cell_type": "raw",
   "id": "642d9e0c",
   "metadata": {},
   "source": [
    "The most popular form of operator overloading in Python is the arithmetic operator overloading, which includes operators such as +, -, *, /, % etc."
   ]
  },
  {
   "cell_type": "markdown",
   "id": "d51202cd",
   "metadata": {},
   "source": [
    "# Q9. What are the two most important concepts to grasp in order to comprehend Python OOP code?"
   ]
  },
  {
   "cell_type": "raw",
   "id": "c781b376",
   "metadata": {},
   "source": [
    "The two most important concepts to grasp in order to comprehend Python OOP code are classes and objects/instances. Classes provide a blueprint for creating objects"
   ]
  }
 ],
 "metadata": {
  "kernelspec": {
   "display_name": "Python 3 (ipykernel)",
   "language": "python",
   "name": "python3"
  },
  "language_info": {
   "codemirror_mode": {
    "name": "ipython",
    "version": 3
   },
   "file_extension": ".py",
   "mimetype": "text/x-python",
   "name": "python",
   "nbconvert_exporter": "python",
   "pygments_lexer": "ipython3",
   "version": "3.8.16"
  }
 },
 "nbformat": 4,
 "nbformat_minor": 5
}
