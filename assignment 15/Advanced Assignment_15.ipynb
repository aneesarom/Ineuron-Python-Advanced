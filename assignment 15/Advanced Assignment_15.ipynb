{
 "cells": [
  {
   "cell_type": "markdown",
   "id": "399e230b",
   "metadata": {},
   "source": [
    "# 1.\tWhat are the new features added in Python 3.8 version?\n"
   ]
  },
  {
   "cell_type": "raw",
   "id": "0c37c42a",
   "metadata": {},
   "source": [
    "1. Assignment Expressions: Allows you to assign and return a value in a single expression using the := operator.\n",
    "2. math.prod(): Adds a new function to the math module that returns the product of all the nos in an iterable.\n",
    "3. f-string support for = and ! operators\n",
    "4. positional-only parameters, \n",
    "5. functools.cache() decorator "
   ]
  },
  {
   "cell_type": "markdown",
   "id": "19daaba4",
   "metadata": {},
   "source": [
    "# 2.\tWhat is monkey patching in Python?"
   ]
  },
  {
   "cell_type": "raw",
   "id": "58068350",
   "metadata": {},
   "source": [
    "It is a technique in python where we can modify or extend the behavior of a module, class, or object at runtime by replacing its attributes or methods with our own implementation."
   ]
  },
  {
   "cell_type": "markdown",
   "id": "6af1d886",
   "metadata": {},
   "source": [
    "# 3.\tWhat is the difference between a shallow copy and deep copy?"
   ]
  },
  {
   "cell_type": "raw",
   "id": "d6fd2110",
   "metadata": {},
   "source": [
    "In shallow copy, objects are referencing the same object so any changes made to the nested lists will be reflected in both the original and the shallow copy. To create a true independent copy of the nested data structure, we are in the need of deep copy. Deep copy creates a new object and so if we are modifying the values it wont reflect in original list"
   ]
  },
  {
   "cell_type": "markdown",
   "id": "8147c556",
   "metadata": {},
   "source": [
    "# 4.\tWhat is the maximum possible length of an identifier?"
   ]
  },
  {
   "cell_type": "raw",
   "id": "03be0b4a",
   "metadata": {},
   "source": [
    "\"Python identifiers are unlimited in length\" as per PEP-8 however we should limit identifier to a maximum of 79 character for better readability"
   ]
  },
  {
   "cell_type": "markdown",
   "id": "3e451e65",
   "metadata": {},
   "source": [
    "# 5.\tWhat is generator comprehension?"
   ]
  },
  {
   "cell_type": "raw",
   "id": "8dc65576",
   "metadata": {},
   "source": [
    "It is a concise way to create a generator object that produces a sequence of values.  It has a similar syntax to a list comprehension, but with parentheses (). Unlike list comprehension, generator comprehension generates values on-the-fly as they are needed"
   ]
  },
  {
   "cell_type": "code",
   "execution_count": null,
   "id": "2c9dc80f",
   "metadata": {},
   "outputs": [],
   "source": []
  }
 ],
 "metadata": {
  "kernelspec": {
   "display_name": "Python 3 (ipykernel)",
   "language": "python",
   "name": "python3"
  },
  "language_info": {
   "codemirror_mode": {
    "name": "ipython",
    "version": 3
   },
   "file_extension": ".py",
   "mimetype": "text/x-python",
   "name": "python",
   "nbconvert_exporter": "python",
   "pygments_lexer": "ipython3",
   "version": "3.8.16"
  }
 },
 "nbformat": 4,
 "nbformat_minor": 5
}
