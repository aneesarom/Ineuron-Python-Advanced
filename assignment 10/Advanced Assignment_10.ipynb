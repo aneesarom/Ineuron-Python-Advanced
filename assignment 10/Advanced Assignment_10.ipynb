{
 "cells": [
  {
   "cell_type": "markdown",
   "id": "aef3c5ed",
   "metadata": {},
   "source": [
    "# Q1. What is the difference between __getattr__ and __getattribute__?"
   ]
  },
  {
   "cell_type": "raw",
   "id": "2f0d7838",
   "metadata": {},
   "source": [
    "__getattr__ :\n",
    "__getattr__ gets called if there is no attribute in the instance.\n",
    "\n",
    "__getattribute__ :\n",
    "__getattribute__ gets called all the times, whether there is the attribute or not."
   ]
  },
  {
   "cell_type": "code",
   "execution_count": 1,
   "id": "eeb93ff5",
   "metadata": {},
   "outputs": [
    {
     "name": "stdout",
     "output_type": "stream",
     "text": [
      "Loading table 'customers' from database\n",
      "customers table contents\n",
      "Loading table 'orders' from database\n",
      "orders table contents\n",
      "customers table contents\n"
     ]
    }
   ],
   "source": [
    "# Define the DatabaseConnection class\n",
    "class DatabaseConnection:\n",
    "    def __init__(self, username, password):\n",
    "        self.username = username\n",
    "        self.password = password\n",
    "        self.tables = {}\n",
    "\n",
    "    def __getattr__(self, table_name):\n",
    "        if table_name not in self.tables:\n",
    "            print(f\"Loading table '{table_name}' from database\")\n",
    "            self.tables[table_name] = f\"{table_name} table contents\"\n",
    "        return self.tables[table_name]\n",
    "\n",
    "db = DatabaseConnection(\"user\", \"pass\")\n",
    "print(db.customers)\n",
    "print(db.orders)\n",
    "print(db.customers)"
   ]
  },
  {
   "cell_type": "code",
   "execution_count": 2,
   "id": "921a4206",
   "metadata": {},
   "outputs": [
    {
     "name": "stdout",
     "output_type": "stream",
     "text": [
      "__getattr__ called for name\n",
      "__getattr__ called for height\n"
     ]
    }
   ],
   "source": [
    "class Person:\n",
    "    def __init__(self, name, age):\n",
    "        self.name = name\n",
    "        self.age = age\n",
    "\n",
    "    def __getattribute__(self, name):\n",
    "        print(f\"__getattr__ called for {name}\")\n",
    "\n",
    "person = Person(\"John\", 30)\n",
    "person.name\n",
    "person.height"
   ]
  },
  {
   "cell_type": "markdown",
   "id": "50ee477b",
   "metadata": {},
   "source": [
    "# Q2. What is the difference between properties and descriptors?"
   ]
  },
  {
   "cell_type": "raw",
   "id": "d2b40a42",
   "metadata": {},
   "source": [
    "Properties are limited to customizing access to a single attribute at a time, while descriptors can be used to customize access to multiple attributes in a more flexible and reusable way."
   ]
  },
  {
   "cell_type": "markdown",
   "id": "2c3d3378",
   "metadata": {},
   "source": [
    "# Q3. What are the key differences in functionality between __getattr__ and __getattribute__, as well as properties and descriptors?"
   ]
  },
  {
   "cell_type": "raw",
   "id": "31b5c9d4",
   "metadata": {},
   "source": [
    "getattr gets called if there is no attribute in the instance and dynamically create attributes for an object that are not known in advance, while getattribute called all the times, whether there is the attribute or not.\n",
    "\n",
    "property is used to define a getter, setter, and deleter for a single attribute of an object, while descriptor is used to define custom behavior that can be reused across multiple attributes of an object."
   ]
  },
  {
   "cell_type": "code",
   "execution_count": null,
   "id": "d1dacabb",
   "metadata": {},
   "outputs": [],
   "source": []
  }
 ],
 "metadata": {
  "kernelspec": {
   "display_name": "Python 3 (ipykernel)",
   "language": "python",
   "name": "python3"
  },
  "language_info": {
   "codemirror_mode": {
    "name": "ipython",
    "version": 3
   },
   "file_extension": ".py",
   "mimetype": "text/x-python",
   "name": "python",
   "nbconvert_exporter": "python",
   "pygments_lexer": "ipython3",
   "version": "3.8.16"
  }
 },
 "nbformat": 4,
 "nbformat_minor": 5
}
