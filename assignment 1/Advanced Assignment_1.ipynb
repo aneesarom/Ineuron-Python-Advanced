{
 "cells": [
  {
   "cell_type": "markdown",
   "id": "86c87c8f",
   "metadata": {},
   "source": [
    "# Q1. What is the purpose of Python's OOP?"
   ]
  },
  {
   "cell_type": "raw",
   "id": "cc3d7804",
   "metadata": {},
   "source": [
    "It helps to organize and structure code in a way that makes it easier to manage, maintain, and reuse."
   ]
  },
  {
   "cell_type": "markdown",
   "id": "6a7a1c73",
   "metadata": {},
   "source": [
    "# Q2. Where does an inheritance search look for an attribute?"
   ]
  },
  {
   "cell_type": "raw",
   "id": "0c9c7c3b",
   "metadata": {},
   "source": [
    "When we call a method on an instance of a class, Python will first check if the method is defined in the instance itself. If it's not defined there, it will look for the method in the class of the instance. If it's still not defined there, it will continue to search in the parent classes (superclasses) of the instance's class. If the method is not found in any of these places, Python will raise an AttributeError."
   ]
  },
  {
   "cell_type": "markdown",
   "id": "438bf8b5",
   "metadata": {},
   "source": [
    "# Q3. How do you distinguish between a class object and an instance object?"
   ]
  },
  {
   "cell_type": "raw",
   "id": "42d89c2e",
   "metadata": {},
   "source": [
    "A class object is used to create new instances of that class. It is created when the class definition is executed.\n",
    "\n",
    "An instance object is an object that is created from a class object. It represents a specific instance of that class and has its own unique set of attributes and methods."
   ]
  },
  {
   "cell_type": "markdown",
   "id": "9b2e6637",
   "metadata": {},
   "source": [
    "# Q4. What makes the first argument in a class’s method function special?"
   ]
  },
  {
   "cell_type": "raw",
   "id": "b962d319",
   "metadata": {},
   "source": [
    "First argument of a class method function is self. This parameter is used to access the instance's variables and methods. When a method is called on an instance object, Python automatically passes the instance object as the first argument to the method. Therefore, the first argument of a method function is reserved for the instance object itself, and it is mandatory to include it in the method definition."
   ]
  },
  {
   "cell_type": "markdown",
   "id": "94022f8d",
   "metadata": {},
   "source": [
    "# Q5. What is the purpose of the __init__ method?"
   ]
  },
  {
   "cell_type": "raw",
   "id": "22152e8c",
   "metadata": {},
   "source": [
    "By defining the __init__ method, we can ensure that the object is created with all of its necessary attributes correctly and to set their initial values. It is also known as the constructor method."
   ]
  },
  {
   "cell_type": "markdown",
   "id": "5a851a0d",
   "metadata": {},
   "source": [
    "# Q6. What is the process for creating a class instance?"
   ]
  },
  {
   "cell_type": "raw",
   "id": "99053362",
   "metadata": {},
   "source": [
    "1.Create an object name and assign the class to it using the class name followed by parentheses.\n",
    "2.If the class has an __init__ method, provide the necessary arguments.\n",
    "3.The instance is then created and stored in the object"
   ]
  },
  {
   "cell_type": "markdown",
   "id": "e4a8ae87",
   "metadata": {},
   "source": [
    "# Q7. What is the process for creating a class?"
   ]
  },
  {
   "cell_type": "raw",
   "id": "52e48c76",
   "metadata": {},
   "source": [
    "1. Define class keyword followed by class name.\n",
    "2. Definie the __init__ method and initialize all the required attributes\n",
    "3. Define any additional methods that are needed for the class."
   ]
  },
  {
   "cell_type": "markdown",
   "id": "ed23efe0",
   "metadata": {},
   "source": [
    "# Q8. How would you define the superclasses of a class?"
   ]
  },
  {
   "cell_type": "raw",
   "id": "363d2193",
   "metadata": {},
   "source": [
    "To define the superclasses of a class, we should specify them in the parentheses after the class name, separated by commas"
   ]
  }
 ],
 "metadata": {
  "kernelspec": {
   "display_name": "Python 3 (ipykernel)",
   "language": "python",
   "name": "python3"
  },
  "language_info": {
   "codemirror_mode": {
    "name": "ipython",
    "version": 3
   },
   "file_extension": ".py",
   "mimetype": "text/x-python",
   "name": "python",
   "nbconvert_exporter": "python",
   "pygments_lexer": "ipython3",
   "version": "3.8.16"
  }
 },
 "nbformat": 4,
 "nbformat_minor": 5
}
