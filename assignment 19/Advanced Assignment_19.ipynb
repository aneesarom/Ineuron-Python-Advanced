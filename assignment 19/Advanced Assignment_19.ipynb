{
 "cells": [
  {
   "cell_type": "markdown",
   "id": "20fe32ca",
   "metadata": {},
   "source": [
    "# Q1. Define the relationship between a class and its instances. Is it a one-to-one or a one-to-many partnership, for example?"
   ]
  },
  {
   "cell_type": "raw",
   "id": "7469357b",
   "metadata": {},
   "source": [
    "The association between a class and its instances is characterized as a one-to-many relationship."
   ]
  },
  {
   "cell_type": "markdown",
   "id": "a3998f76",
   "metadata": {},
   "source": [
    "# Q2. What kind of data is held only in an instance?\n"
   ]
  },
  {
   "cell_type": "raw",
   "id": "3a423db0",
   "metadata": {},
   "source": [
    "Instance objects possess instance variables that are unique to each specific instance object."
   ]
  },
  {
   "cell_type": "markdown",
   "id": "3bc4acfe",
   "metadata": {},
   "source": [
    "# Q3. What kind of knowledge is stored in a class?"
   ]
  },
  {
   "cell_type": "raw",
   "id": "8bb9f21e",
   "metadata": {},
   "source": [
    "A class serves as a blueprint for creating user-defined data structures that encapsulate their own data members and member functions."
   ]
  },
  {
   "cell_type": "markdown",
   "id": "d6c2ef9c",
   "metadata": {},
   "source": [
    "# Q4. What exactly is a method, and how is it different from a regular function?"
   ]
  },
  {
   "cell_type": "raw",
   "id": "45831f44",
   "metadata": {},
   "source": [
    "A method is a function that is defined within a class and is associated with objects or instances of that class. Methods are accessed through instances of the class.\n",
    "\n",
    "On the other hand, a regular function is defined outside of any class and can be standalone. Functions can be called independently without the need for an instance."
   ]
  },
  {
   "cell_type": "markdown",
   "id": "471e1689",
   "metadata": {},
   "source": [
    "# Q5. Is inheritance supported in Python, and if so, what is the syntax?"
   ]
  },
  {
   "cell_type": "raw",
   "id": "1978b434",
   "metadata": {},
   "source": [
    "Python supports inheritance"
   ]
  },
  {
   "cell_type": "code",
   "execution_count": 4,
   "id": "63b31180",
   "metadata": {},
   "outputs": [],
   "source": [
    "class Person:\n",
    "    def __init__(self, fname, lname):\n",
    "        self.first_name = fname\n",
    "        self.last_name = lname\n",
    "class Student(Person):\n",
    "    pass"
   ]
  },
  {
   "cell_type": "markdown",
   "id": "1f2a9517",
   "metadata": {},
   "source": [
    "# Q6. How much encapsulation (making instance or class variables private) does Python support?"
   ]
  },
  {
   "cell_type": "raw",
   "id": "4a8d1ce2",
   "metadata": {},
   "source": [
    "In Python, encapsulation can be achieved to some extent. Python follows a convention-based approach rather than strict enforcement of access modifiers like some other languages. it uses naming conventions to indicate the intended access level. By convention, variables and methods that are intended to be private are prefixed with a single underscore (_), indicating that they should not be accessed or modified directly from outside the class."
   ]
  },
  {
   "cell_type": "markdown",
   "id": "c0de33d4",
   "metadata": {},
   "source": [
    "# Q7. How do you distinguish between a class variable and an instance variable?"
   ]
  },
  {
   "cell_type": "raw",
   "id": "1acc672d",
   "metadata": {},
   "source": [
    "Class attributes are shared by all instance objects of a class, while instance attributes are specific to each individual object or instance of that class."
   ]
  },
  {
   "cell_type": "markdown",
   "id": "65768276",
   "metadata": {},
   "source": [
    "# Q8. When, if ever, can self be included in a class's method definitions?"
   ]
  },
  {
   "cell_type": "raw",
   "id": "65772f2b",
   "metadata": {},
   "source": [
    "It is typically used as the first parameter in the method definition to represent the instance/object on which the method is being called.\"self\" in a method definition allows the method to access and manipulate the instance attributes and other methods of the class."
   ]
  },
  {
   "cell_type": "markdown",
   "id": "ae7c6bbf",
   "metadata": {},
   "source": [
    "# Q9. What is the difference between the **`__add__`** and the **`__radd__`** methods ?"
   ]
  },
  {
   "cell_type": "raw",
   "id": "2a3f08c5",
   "metadata": {},
   "source": [
    "__radd__ in Python will try __add__(), and if that returns \"Not Implemented\" it will check if the right-hand operand __radd__ implemented, and if it did, it will call __radd__() rather than it raises a TypeError"
   ]
  },
  {
   "cell_type": "markdown",
   "id": "5eae7542",
   "metadata": {},
   "source": [
    "# Q10. When is it necessary to use a reflection method? When do you not need it, even though you support the operation in question?"
   ]
  },
  {
   "cell_type": "markdown",
   "id": "98aac547",
   "metadata": {},
   "source": [
    "# Q11. What is the __iadd__ method called?"
   ]
  },
  {
   "cell_type": "raw",
   "id": "f347721e",
   "metadata": {},
   "source": [
    "__iadd__ method is invoked when the += operator is used to perform an addition operation, such as a += b. This operation is equivalent to calling a.__iadd__(b)"
   ]
  },
  {
   "cell_type": "markdown",
   "id": "f6c3908c",
   "metadata": {},
   "source": [
    "# Q12. Is the _ _init_ _ method inherited by subclasses? What do you do if you need to customize its behavior within a subclass ?"
   ]
  },
  {
   "cell_type": "raw",
   "id": "74f73dfb",
   "metadata": {},
   "source": [
    "__init__ method will be inherited by subclasses. if we want to customize its behaviour within a subclass we can use super() method."
   ]
  }
 ],
 "metadata": {
  "kernelspec": {
   "display_name": "Python 3 (ipykernel)",
   "language": "python",
   "name": "python3"
  },
  "language_info": {
   "codemirror_mode": {
    "name": "ipython",
    "version": 3
   },
   "file_extension": ".py",
   "mimetype": "text/x-python",
   "name": "python",
   "nbconvert_exporter": "python",
   "pygments_lexer": "ipython3",
   "version": "3.8.16"
  }
 },
 "nbformat": 4,
 "nbformat_minor": 5
}
