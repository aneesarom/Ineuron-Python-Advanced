{
 "cells": [
  {
   "cell_type": "markdown",
   "id": "025356e9",
   "metadata": {},
   "source": [
    "# Q1. What is the meaning of multiple inheritance?"
   ]
  },
  {
   "cell_type": "raw",
   "id": "60ea2880",
   "metadata": {},
   "source": [
    "Multiple inheritance is a feature in oops that allows a class to inherit properties and behavior from multiple parent classes. In other words, It allows a subclass can inherit attributes and methods from multiple parent classes."
   ]
  },
  {
   "cell_type": "markdown",
   "id": "82f4d772",
   "metadata": {},
   "source": [
    "# Q2. What is the concept of delegation?"
   ]
  },
  {
   "cell_type": "raw",
   "id": "ec8c95e9",
   "metadata": {},
   "source": [
    "Delegation is a programming technique in which an object passes responsibility for a task to another object. In this approach, one object forwards a message to another object to perform a specific task. It is a way of designing objects that promotes code reuse, flexibility, and maintainability."
   ]
  },
  {
   "cell_type": "code",
   "execution_count": 8,
   "id": "6e11358b",
   "metadata": {},
   "outputs": [
    {
     "name": "stdout",
     "output_type": "stream",
     "text": [
      "Food prepared!\n"
     ]
    }
   ],
   "source": [
    "class Kitchen:\n",
    "    def prepare_food(self):\n",
    "        print(\"Food prepared!\")\n",
    "\n",
    "class Chef:\n",
    "    def __init__(self):\n",
    "        self.kitchen = Kitchen()\n",
    "\n",
    "    def prepare_food(self):\n",
    "        self.kitchen.prepare_food()\n",
    "\n",
    "chef = Chef()\n",
    "chef.prepare_food()\n"
   ]
  },
  {
   "cell_type": "markdown",
   "id": "784ac35d",
   "metadata": {},
   "source": [
    "# Q3. What is the concept of composition?"
   ]
  },
  {
   "cell_type": "raw",
   "id": "4dab24af",
   "metadata": {},
   "source": [
    "Composition is a concept in oops where a class is designed by combining several classes objects together to create a more complex object. This allows you to create complex objects that have different behaviors and properties, making it easier to manage and maintain the code. Composition is often used as an alternative to inheritance, as it provides more flexibility and is less prone to errors."
   ]
  },
  {
   "cell_type": "code",
   "execution_count": 13,
   "id": "b2482d6d",
   "metadata": {},
   "outputs": [
    {
     "name": "stdout",
     "output_type": "stream",
     "text": [
      "Anees Aro\n",
      "29\n",
      "42 Pookara Street\n",
      "Thanjavur\n",
      "TN\n"
     ]
    }
   ],
   "source": [
    "class Address:\n",
    "    def __init__(self, street, city, state):\n",
    "        self.street = street\n",
    "        self.city = city\n",
    "        self.state = state\n",
    "\n",
    "class Person:\n",
    "    def __init__(self, name, age, address):\n",
    "        self.name = name\n",
    "        self.age = age\n",
    "        self.address = address\n",
    "\n",
    "address = Address(\"42 Pookara Street\", \"Thanjavur\", \"TN\")\n",
    "person = Person(\"Anees Aro\", 29, address)\n",
    "\n",
    "print(person.name)\n",
    "print(person.age)\n",
    "print(person.address.street)\n",
    "print(person.address.city)\n",
    "print(person.address.state)"
   ]
  },
  {
   "cell_type": "markdown",
   "id": "a75985ce",
   "metadata": {},
   "source": [
    "# Q4. What are bound methods and how do we use them?"
   ]
  },
  {
   "cell_type": "code",
   "execution_count": 21,
   "id": "1ecf94d7",
   "metadata": {},
   "outputs": [
    {
     "name": "stdout",
     "output_type": "stream",
     "text": [
      "<bound method Myclass.func of <__main__.Myclass object at 0x112072970>>\n",
      "Value is: 5\n"
     ]
    }
   ],
   "source": [
    "class Myclass:\n",
    "  \n",
    "    def func(self, arg):\n",
    "        self.arg = arg\n",
    "        return f\"Value is: {arg}\"\n",
    "  \n",
    "  \n",
    "obj = Myclass()  \n",
    "\n",
    "print(obj.func) # bound method\n",
    "print(obj.func(\"5\"))"
   ]
  },
  {
   "cell_type": "raw",
   "id": "d7d5dd5a",
   "metadata": {},
   "source": [
    "A bound method passes the instance as the first argument which is used to access the variables and functions. Bound method is a way of binding a function to an object, so that the function can be called on that object."
   ]
  },
  {
   "cell_type": "markdown",
   "id": "8c904976",
   "metadata": {},
   "source": [
    "# Q5. What is the purpose of pseudoprivate attributes?"
   ]
  },
  {
   "cell_type": "raw",
   "id": "e8d691c2",
   "metadata": {},
   "source": [
    "It help to make variables more private by giving them a unique name so that it can't be easily accessed or modified outside the class. We have to use and get and set method to access and modify the attribute. It is also known as name mangling."
   ]
  },
  {
   "cell_type": "code",
   "execution_count": 45,
   "id": "8e1ceacc",
   "metadata": {},
   "outputs": [
    {
     "name": "stdout",
     "output_type": "stream",
     "text": [
      "25\n",
      "15\n"
     ]
    }
   ],
   "source": [
    "class MyClass:\n",
    "    def __init__(self, x):\n",
    "        self.__x = x  # pseudoprivate attribute\n",
    "    \n",
    "    def get_x(self):\n",
    "        return self.__x\n",
    "    \n",
    "    def set_x(self, x):\n",
    "        self.__x = x\n",
    "        \n",
    "        \n",
    "obj = MyClass(25)\n",
    "# print(obj.__x) # it will throw an attribute error\n",
    "print(obj.get_x())\n",
    "\n",
    "obj._MyClass__x = 15\n",
    "print(obj.get_x())"
   ]
  },
  {
   "cell_type": "code",
   "execution_count": null,
   "id": "ed3fc264",
   "metadata": {},
   "outputs": [],
   "source": []
  }
 ],
 "metadata": {
  "kernelspec": {
   "display_name": "Python 3 (ipykernel)",
   "language": "python",
   "name": "python3"
  },
  "language_info": {
   "codemirror_mode": {
    "name": "ipython",
    "version": 3
   },
   "file_extension": ".py",
   "mimetype": "text/x-python",
   "name": "python",
   "nbconvert_exporter": "python",
   "pygments_lexer": "ipython3",
   "version": "3.8.16"
  }
 },
 "nbformat": 4,
 "nbformat_minor": 5
}
