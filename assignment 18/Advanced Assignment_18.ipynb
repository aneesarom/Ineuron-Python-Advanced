{
 "cells": [
  {
   "cell_type": "markdown",
   "id": "a97dc8db",
   "metadata": {},
   "source": [
    "# Q1. Describe the differences between text and binary files in a single paragraph."
   ]
  },
  {
   "cell_type": "raw",
   "id": "b4919639",
   "metadata": {},
   "source": [
    "Text files store data as sequences of characters, usually in a format that can be interpreted as human-readable text. It is usually encoded in a specific format such as ASCII, Unicode, or UTF-8. Binary files store data as a sequence of binary digits which can represent any kind of data, including text. Binary files are typically used to store non-textual data, such as images, audio files, and executable programs."
   ]
  },
  {
   "cell_type": "markdown",
   "id": "3c892b75",
   "metadata": {},
   "source": [
    "# Q2. What are some scenarios where using text files will be the better option? When would you like to use binary files instead of text files?"
   ]
  },
  {
   "cell_type": "raw",
   "id": "7fadedca",
   "metadata": {},
   "source": [
    "Text files are a good option when you need to store and process human-readable data, such as plain text, CSV, JSON, XML, or HTML files. \n",
    "\n",
    "Binary files are typically used to store non-textual data, such as images, audio files, and executable programs."
   ]
  },
  {
   "cell_type": "markdown",
   "id": "90051695",
   "metadata": {},
   "source": [
    "# Q3. What are some of the issues with using binary operations to read and write a Python integer directly to disc?"
   ]
  },
  {
   "cell_type": "raw",
   "id": "f5e3283d",
   "metadata": {},
   "source": [
    "Binary operations can be more error-prone and difficult to read and debug compared to using higher-level data serialization methods such as JSON or XML."
   ]
  },
  {
   "cell_type": "markdown",
   "id": "b32eb1d9",
   "metadata": {},
   "source": [
    "# Q4. Describe a benefit of using the with keyword instead of explicitly opening a file."
   ]
  },
  {
   "cell_type": "raw",
   "id": "64ef8fbf",
   "metadata": {},
   "source": [
    "With keyword simplifies the process of opening and closing files. It reduces the risk of errors that can occur from improperly closing files"
   ]
  },
  {
   "cell_type": "markdown",
   "id": "d0e6c676",
   "metadata": {},
   "source": [
    "# Q5. Does Python have the trailing newline while reading a line of text? Does Python append a newline when you write a line of text?"
   ]
  },
  {
   "cell_type": "raw",
   "id": "a70b0d43",
   "metadata": {},
   "source": [
    "Yes by default python includes the trailing newline (\"\\n\") when reading a line of text. \n",
    "Yes Python appends a newline character (\"\\n\") when writing a line of text using write() method. By using end parameter we can avoid that"
   ]
  },
  {
   "cell_type": "markdown",
   "id": "2ec72de0",
   "metadata": {},
   "source": [
    "# Q6. What file operations enable for random-access operation?"
   ]
  },
  {
   "cell_type": "raw",
   "id": "1e1910f6",
   "metadata": {},
   "source": [
    "seek() and tell() methods in python enable random-access operations on a file"
   ]
  },
  {
   "cell_type": "markdown",
   "id": "5fc150cd",
   "metadata": {},
   "source": [
    "# Q7. When do you think you'll use the struct package the most?"
   ]
  },
  {
   "cell_type": "raw",
   "id": "919e58da",
   "metadata": {},
   "source": [
    "It is particularly useful when working with binary file formats and network protocols."
   ]
  },
  {
   "cell_type": "markdown",
   "id": "1656a737",
   "metadata": {},
   "source": [
    "# Q8. When is pickling the best option?"
   ]
  },
  {
   "cell_type": "raw",
   "id": "baffcbe0",
   "metadata": {},
   "source": [
    "pickling is commonly used for serializing and saving trained models. serialized file can then be loaded at a later time and used for making predictions on new data.\n",
    "\n",
    "Pickling can also be useful when working with large datasets that need to be preprocessed before training a machine learning model"
   ]
  },
  {
   "cell_type": "markdown",
   "id": "142d81bb",
   "metadata": {},
   "source": [
    "# Q9. When will it be best to use the shelve package?"
   ]
  },
  {
   "cell_type": "raw",
   "id": "28594ea3",
   "metadata": {},
   "source": [
    "If the program frequently reads data from an external source, such as a web API or a database, we can use shelve to cache the data locally, so that your program doesn't have to make the external requests every time it runs."
   ]
  },
  {
   "cell_type": "markdown",
   "id": "828f2d6f",
   "metadata": {},
   "source": [
    "# Q10. What is a special restriction when using the shelve package, as opposed to using other data dictionaries?"
   ]
  },
  {
   "cell_type": "raw",
   "id": "545afa1a",
   "metadata": {},
   "source": [
    "Shelve package is dependent on the pickle module, which implies that any data that needs to be stored in a shelve database has to be picklable."
   ]
  }
 ],
 "metadata": {
  "kernelspec": {
   "display_name": "Python 3 (ipykernel)",
   "language": "python",
   "name": "python3"
  },
  "language_info": {
   "codemirror_mode": {
    "name": "ipython",
    "version": 3
   },
   "file_extension": ".py",
   "mimetype": "text/x-python",
   "name": "python",
   "nbconvert_exporter": "python",
   "pygments_lexer": "ipython3",
   "version": "3.8.16"
  }
 },
 "nbformat": 4,
 "nbformat_minor": 5
}
